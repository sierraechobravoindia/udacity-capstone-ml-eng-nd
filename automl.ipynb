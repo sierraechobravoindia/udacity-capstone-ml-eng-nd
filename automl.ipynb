{
  "cells": [
    {
      "cell_type": "markdown",
      "source": [
        "# Automated ML\n",
        "\n",
        "TODO: Import Dependencies. In the cell below, import all the dependencies that you will need to complete the project."
      ],
      "metadata": {}
    },
    {
      "cell_type": "code",
      "source": [
        "from azureml.core import Workspace, Experiment\n",
        "from azureml.core.compute import ComputeTarget, AmlCompute\n",
        "from azureml.core.compute_target import ComputeTargetException\n",
        "from azureml.widgets import RunDetails\n",
        "from azureml.data.dataset_factory import TabularDatasetFactory\n",
        "from azureml.core.dataset import Dataset\n",
        "from azureml.train.automl.utilities import get_primary_metrics\n",
        "from azureml.train.automl import AutoMLConfig\n",
        "from azureml.core.model import InferenceConfig\n",
        "from azureml.core.webservice import AciWebservice\n",
        "from azureml.core.webservice import Webservice\n",
        "from azureml.core.model import Model\n",
        "from azureml.core.environment import Environment\n",
        "from azureml.automl.core.shared import constants\n",
        "\n",
        "from sklearn.model_selection import train_test_split\n",
        "import pandas as pd\n",
        "import joblib"
      ],
      "outputs": [],
      "execution_count": 1,
      "metadata": {
        "gather": {
          "logged": 1684239599379
        }
      }
    },
    {
      "cell_type": "code",
      "source": [
        "ws = Workspace.from_config()\n",
        "\n",
        "# choose a name for experiment\n",
        "experiment_name = 'CapstoneProjectExperiment'\n",
        "project_folder = './capstone_automl_step'\n",
        "experiment=Experiment(ws, experiment_name)"
      ],
      "outputs": [],
      "execution_count": 2,
      "metadata": {
        "gather": {
          "logged": 1684239612644
        },
        "jupyter": {
          "outputs_hidden": false,
          "source_hidden": false
        },
        "nteract": {
          "transient": {
            "deleting": false
          }
        }
      }
    },
    {
      "cell_type": "code",
      "source": [
        "from azureml.core.compute import AmlCompute\n",
        "from azureml.core.compute import ComputeTarget\n",
        "from azureml.core.compute_target import ComputeTargetException\n",
        "\n",
        "# NOTE: update the cluster name to match the existing cluster\n",
        "# Choose a name for your CPU cluster\n",
        "amlcompute_cluster_name = \"compute-cluster\"\n",
        "\n",
        "# Verify that cluster does not exist already\n",
        "try:\n",
        "    compute_target = ComputeTarget(workspace=ws, name=amlcompute_cluster_name)\n",
        "    print('Found existing cluster, use it.')\n",
        "except ComputeTargetException:\n",
        "    compute_config = AmlCompute.provisioning_configuration(vm_size='STANDARD_D2_V2',# for GPU, use \"STANDARD_NC6\"\n",
        "                                                           #vm_priority = 'lowpriority', # optional\n",
        "                                                           max_nodes=4)\n",
        "    compute_target = ComputeTarget.create(ws, amlcompute_cluster_name, compute_config)\n",
        "\n",
        "compute_target.wait_for_completion(show_output=True, min_node_count = 1, timeout_in_minutes = 3)\n",
        "# For a more detailed view of current AmlCompute status, use get_status()."
      ],
      "outputs": [
        {
          "output_type": "stream",
          "name": "stdout",
          "text": "Found existing cluster, use it.\nSucceeded...................................\nAmlCompute wait for completion finished\n\nWait timeout has been reached\nCurrent provisioning state of AmlCompute is \"Succeeded\" and current node count is \"0\"\n"
        }
      ],
      "execution_count": 4,
      "metadata": {
        "gather": {
          "logged": 1684239816815
        },
        "jupyter": {
          "outputs_hidden": false,
          "source_hidden": false
        },
        "nteract": {
          "transient": {
            "deleting": false
          }
        }
      }
    },
    {
      "cell_type": "markdown",
      "source": [
        "## Dataset\n",
        "\n",
        "### Overview\n",
        "In this project we use the very popular heart-disease dataset that can be found on kaggle or the UCI ML repo. \n",
        "\n",
        "I use a subset of data with 14 features and as the label the \"DEATH_EVENT\" that indicates the death of the patient in a given period of time."
      ],
      "metadata": {}
    },
    {
      "cell_type": "code",
      "source": [
        "found = False\n",
        "key = \"Cleveland-Heart-Disease-Dataset\"\n",
        "description_text = \"UCI ML Repo Dataset on non-invasive diagnosis of heart disease\"\n",
        "\n",
        "if key in ws.datasets.keys(): \n",
        "        found = True\n",
        "        dataset = ws.datasets[key] \n",
        "\n",
        "if not found:\n",
        "        example_data = 'https://raw.githubusercontent.com/sierraechobravoindia/udacity-capstone-ml-eng-nd/main/heart_failure_clinical_records_dataset.csv'\n",
        "        dataset = Dataset.Tabular.from_delimited_files(example_data)        \n",
        "        dataset = dataset.register(workspace=ws,\n",
        "                                   name=key,\n",
        "                                   description=description_text)\n",
        "\n",
        "\n",
        "df = dataset.to_pandas_dataframe()\n",
        "df.describe()"
      ],
      "outputs": [
        {
          "output_type": "execute_result",
          "execution_count": 5,
          "data": {
            "text/plain": "              age     anaemia  creatinine_phosphokinase    diabetes  \\\ncount  299.000000  299.000000                299.000000  299.000000   \nmean    60.833893    0.431438                581.839465    0.418060   \nstd     11.894809    0.496107                970.287881    0.494067   \nmin     40.000000    0.000000                 23.000000    0.000000   \n25%     51.000000    0.000000                116.500000    0.000000   \n50%     60.000000    0.000000                250.000000    0.000000   \n75%     70.000000    1.000000                582.000000    1.000000   \nmax     95.000000    1.000000               7861.000000    1.000000   \n\n       ejection_fraction  high_blood_pressure      platelets  \\\ncount         299.000000           299.000000     299.000000   \nmean           38.083612             0.351171  263358.029264   \nstd            11.834841             0.478136   97804.236869   \nmin            14.000000             0.000000   25100.000000   \n25%            30.000000             0.000000  212500.000000   \n50%            38.000000             0.000000  262000.000000   \n75%            45.000000             1.000000  303500.000000   \nmax            80.000000             1.000000  850000.000000   \n\n       serum_creatinine  serum_sodium         sex    smoking        time  \\\ncount         299.00000    299.000000  299.000000  299.00000  299.000000   \nmean            1.39388    136.625418    0.648829    0.32107  130.260870   \nstd             1.03451      4.412477    0.478136    0.46767   77.614208   \nmin             0.50000    113.000000    0.000000    0.00000    4.000000   \n25%             0.90000    134.000000    0.000000    0.00000   73.000000   \n50%             1.10000    137.000000    1.000000    0.00000  115.000000   \n75%             1.40000    140.000000    1.000000    1.00000  203.000000   \nmax             9.40000    148.000000    1.000000    1.00000  285.000000   \n\n       DEATH_EVENT  \ncount    299.00000  \nmean       0.32107  \nstd        0.46767  \nmin        0.00000  \n25%        0.00000  \n50%        0.00000  \n75%        1.00000  \nmax        1.00000  ",
            "text/html": "<div>\n<style scoped>\n    .dataframe tbody tr th:only-of-type {\n        vertical-align: middle;\n    }\n\n    .dataframe tbody tr th {\n        vertical-align: top;\n    }\n\n    .dataframe thead th {\n        text-align: right;\n    }\n</style>\n<table border=\"1\" class=\"dataframe\">\n  <thead>\n    <tr style=\"text-align: right;\">\n      <th></th>\n      <th>age</th>\n      <th>anaemia</th>\n      <th>creatinine_phosphokinase</th>\n      <th>diabetes</th>\n      <th>ejection_fraction</th>\n      <th>high_blood_pressure</th>\n      <th>platelets</th>\n      <th>serum_creatinine</th>\n      <th>serum_sodium</th>\n      <th>sex</th>\n      <th>smoking</th>\n      <th>time</th>\n      <th>DEATH_EVENT</th>\n    </tr>\n  </thead>\n  <tbody>\n    <tr>\n      <th>count</th>\n      <td>299.000000</td>\n      <td>299.000000</td>\n      <td>299.000000</td>\n      <td>299.000000</td>\n      <td>299.000000</td>\n      <td>299.000000</td>\n      <td>299.000000</td>\n      <td>299.00000</td>\n      <td>299.000000</td>\n      <td>299.000000</td>\n      <td>299.00000</td>\n      <td>299.000000</td>\n      <td>299.00000</td>\n    </tr>\n    <tr>\n      <th>mean</th>\n      <td>60.833893</td>\n      <td>0.431438</td>\n      <td>581.839465</td>\n      <td>0.418060</td>\n      <td>38.083612</td>\n      <td>0.351171</td>\n      <td>263358.029264</td>\n      <td>1.39388</td>\n      <td>136.625418</td>\n      <td>0.648829</td>\n      <td>0.32107</td>\n      <td>130.260870</td>\n      <td>0.32107</td>\n    </tr>\n    <tr>\n      <th>std</th>\n      <td>11.894809</td>\n      <td>0.496107</td>\n      <td>970.287881</td>\n      <td>0.494067</td>\n      <td>11.834841</td>\n      <td>0.478136</td>\n      <td>97804.236869</td>\n      <td>1.03451</td>\n      <td>4.412477</td>\n      <td>0.478136</td>\n      <td>0.46767</td>\n      <td>77.614208</td>\n      <td>0.46767</td>\n    </tr>\n    <tr>\n      <th>min</th>\n      <td>40.000000</td>\n      <td>0.000000</td>\n      <td>23.000000</td>\n      <td>0.000000</td>\n      <td>14.000000</td>\n      <td>0.000000</td>\n      <td>25100.000000</td>\n      <td>0.50000</td>\n      <td>113.000000</td>\n      <td>0.000000</td>\n      <td>0.00000</td>\n      <td>4.000000</td>\n      <td>0.00000</td>\n    </tr>\n    <tr>\n      <th>25%</th>\n      <td>51.000000</td>\n      <td>0.000000</td>\n      <td>116.500000</td>\n      <td>0.000000</td>\n      <td>30.000000</td>\n      <td>0.000000</td>\n      <td>212500.000000</td>\n      <td>0.90000</td>\n      <td>134.000000</td>\n      <td>0.000000</td>\n      <td>0.00000</td>\n      <td>73.000000</td>\n      <td>0.00000</td>\n    </tr>\n    <tr>\n      <th>50%</th>\n      <td>60.000000</td>\n      <td>0.000000</td>\n      <td>250.000000</td>\n      <td>0.000000</td>\n      <td>38.000000</td>\n      <td>0.000000</td>\n      <td>262000.000000</td>\n      <td>1.10000</td>\n      <td>137.000000</td>\n      <td>1.000000</td>\n      <td>0.00000</td>\n      <td>115.000000</td>\n      <td>0.00000</td>\n    </tr>\n    <tr>\n      <th>75%</th>\n      <td>70.000000</td>\n      <td>1.000000</td>\n      <td>582.000000</td>\n      <td>1.000000</td>\n      <td>45.000000</td>\n      <td>1.000000</td>\n      <td>303500.000000</td>\n      <td>1.40000</td>\n      <td>140.000000</td>\n      <td>1.000000</td>\n      <td>1.00000</td>\n      <td>203.000000</td>\n      <td>1.00000</td>\n    </tr>\n    <tr>\n      <th>max</th>\n      <td>95.000000</td>\n      <td>1.000000</td>\n      <td>7861.000000</td>\n      <td>1.000000</td>\n      <td>80.000000</td>\n      <td>1.000000</td>\n      <td>850000.000000</td>\n      <td>9.40000</td>\n      <td>148.000000</td>\n      <td>1.000000</td>\n      <td>1.00000</td>\n      <td>285.000000</td>\n      <td>1.00000</td>\n    </tr>\n  </tbody>\n</table>\n</div>"
          },
          "metadata": {}
        }
      ],
      "execution_count": 5,
      "metadata": {
        "gather": {
          "logged": 1684239819777
        },
        "jupyter": {
          "outputs_hidden": false,
          "source_hidden": false
        },
        "nteract": {
          "transient": {
            "deleting": false
          }
        }
      }
    },
    {
      "cell_type": "markdown",
      "source": [
        "## AutoML Configuration\n",
        "\n",
        "TODO: Explain why you chose the automl settings and cofiguration you used below."
      ],
      "metadata": {}
    },
    {
      "cell_type": "code",
      "source": [
        "# TODO: Put your automl settings here\n",
        "automl_settings = {\n",
        "    \"experiment_timeout_minutes\": 15,\n",
        "    \"max_concurrent_iterations\": 4,\n",
        "    \"primary_metric\" : 'accuracy',\n",
        "    \"n_cross_validations\": 5\n",
        "}\n",
        "# TODO: Put your automl config here\n",
        "automl_config = AutoMLConfig(compute_target=compute_target,\n",
        "                             task = \"classification\",\n",
        "                             training_data=dataset, \n",
        "                             label_column_name=\"DEATH_EVENT\",  \n",
        "                             path = project_folder,\n",
        "                             enable_early_stopping= True,\n",
        "                             featurization= 'auto',\n",
        "                             debug_log = \"automl_errors.log\",\n",
        "                             **automl_settings\n",
        "                            )"
      ],
      "outputs": [],
      "execution_count": 6,
      "metadata": {
        "gather": {
          "logged": 1684239844681
        },
        "jupyter": {
          "outputs_hidden": false,
          "source_hidden": false
        },
        "nteract": {
          "transient": {
            "deleting": false
          }
        }
      }
    },
    {
      "cell_type": "code",
      "source": [
        "# TODO: Submit your experiment\n",
        "remote_run = experiment.submit(automl_config)"
      ],
      "outputs": [
        {
          "output_type": "stream",
          "name": "stdout",
          "text": "Submitting remote run.\n"
        },
        {
          "output_type": "display_data",
          "data": {
            "text/plain": "<IPython.core.display.HTML object>",
            "text/html": "<table style=\"width:100%\"><tr><th>Experiment</th><th>Id</th><th>Type</th><th>Status</th><th>Details Page</th><th>Docs Page</th></tr><tr><td>CapstoneProjectExperiment</td><td>AutoML_f28929f9-9212-4c32-92bb-f5d5255b7b4f</td><td>automl</td><td>NotStarted</td><td><a href=\"https://ml.azure.com/runs/AutoML_f28929f9-9212-4c32-92bb-f5d5255b7b4f?wsid=/subscriptions/eb2fe91a-2797-4c53-bd12-b644f041e7ef/resourcegroups/rg-art-ta-cfp-docker/workspaces/ml_playground&amp;tid=c5f6f6e0-4c59-4aa1-bcd7-033f5f211b1c\" target=\"_blank\" rel=\"noopener\">Link to Azure Machine Learning studio</a></td><td><a href=\"https://docs.microsoft.com/en-us/python/api/overview/azure/ml/intro?view=azure-ml-py\" target=\"_blank\" rel=\"noopener\">Link to Documentation</a></td></tr></table>"
          },
          "metadata": {}
        }
      ],
      "execution_count": 7,
      "metadata": {
        "gather": {
          "logged": 1684239851566
        },
        "jupyter": {
          "outputs_hidden": false,
          "source_hidden": false
        },
        "nteract": {
          "transient": {
            "deleting": false
          }
        }
      }
    },
    {
      "cell_type": "markdown",
      "source": [
        "## Run Details\n",
        "\n",
        "OPTIONAL: Write about the different models trained and their performance. Why do you think some models did better than others?\n",
        "\n",
        "TODO: In the cell below, use the `RunDetails` widget to show the different experiments."
      ],
      "metadata": {}
    },
    {
      "cell_type": "code",
      "source": [
        "from azureml.widgets import RunDetails\n",
        "RunDetails(remote_run).show()"
      ],
      "outputs": [
        {
          "output_type": "display_data",
          "data": {
            "text/plain": "_AutoMLWidget(widget_settings={'childWidgetDisplay': 'popup', 'send_telemetry': False, 'log_level': 'INFO', 's…",
            "application/vnd.jupyter.widget-view+json": {
              "version_major": 2,
              "version_minor": 0,
              "model_id": "3ce6296a37e1408ea42fedeae9cec214"
            }
          },
          "metadata": {}
        },
        {
          "output_type": "display_data",
          "data": {
            "application/aml.mini.widget.v1": "{\"status\": \"Completed\", \"workbench_run_details_uri\": \"https://ml.azure.com/runs/AutoML_f28929f9-9212-4c32-92bb-f5d5255b7b4f?wsid=/subscriptions/eb2fe91a-2797-4c53-bd12-b644f041e7ef/resourcegroups/rg-art-ta-cfp-docker/workspaces/ml_playground&tid=c5f6f6e0-4c59-4aa1-bcd7-033f5f211b1c\", \"run_id\": \"AutoML_f28929f9-9212-4c32-92bb-f5d5255b7b4f\", \"run_properties\": {\"run_id\": \"AutoML_f28929f9-9212-4c32-92bb-f5d5255b7b4f\", \"created_utc\": \"2023-05-16T12:24:10.647962Z\", \"properties\": {\"num_iterations\": \"1000\", \"training_type\": \"TrainFull\", \"acquisition_function\": \"EI\", \"primary_metric\": \"accuracy\", \"train_split\": \"0\", \"acquisition_parameter\": \"0\", \"num_cross_validation\": \"5\", \"target\": \"compute-cluster\", \"AMLSettingsJsonString\": \"{\\\"path\\\":null,\\\"name\\\":\\\"CapstoneProjectExperiment\\\",\\\"subscription_id\\\":\\\"eb2fe91a-2797-4c53-bd12-b644f041e7ef\\\",\\\"resource_group\\\":\\\"rg-art-ta-cfp-docker\\\",\\\"workspace_name\\\":\\\"ml_playground\\\",\\\"region\\\":\\\"westeurope\\\",\\\"compute_target\\\":\\\"compute-cluster\\\",\\\"spark_service\\\":null,\\\"azure_service\\\":\\\"remote\\\",\\\"many_models\\\":false,\\\"pipeline_fetch_max_batch_size\\\":1,\\\"enable_batch_run\\\":true,\\\"enable_parallel_run\\\":false,\\\"num_procs\\\":null,\\\"enable_run_restructure\\\":false,\\\"start_auxiliary_runs_before_parent_complete\\\":false,\\\"enable_code_generation\\\":true,\\\"iterations\\\":1000,\\\"primary_metric\\\":\\\"accuracy\\\",\\\"task_type\\\":\\\"classification\\\",\\\"positive_label\\\":null,\\\"data_script\\\":null,\\\"test_size\\\":0.0,\\\"test_include_predictions_only\\\":false,\\\"validation_size\\\":0.0,\\\"n_cross_validations\\\":5,\\\"y_min\\\":null,\\\"y_max\\\":null,\\\"num_classes\\\":null,\\\"featurization\\\":\\\"auto\\\",\\\"_ignore_package_version_incompatibilities\\\":false,\\\"is_timeseries\\\":false,\\\"max_cores_per_iteration\\\":1,\\\"max_concurrent_iterations\\\":4,\\\"iteration_timeout_minutes\\\":null,\\\"mem_in_mb\\\":null,\\\"enforce_time_on_windows\\\":false,\\\"experiment_timeout_minutes\\\":15,\\\"experiment_exit_score\\\":null,\\\"partition_column_names\\\":null,\\\"whitelist_models\\\":null,\\\"blacklist_algos\\\":[\\\"TensorFlowLinearClassifier\\\",\\\"TensorFlowDNN\\\"],\\\"supported_models\\\":[\\\"TensorFlowDNN\\\",\\\"AveragedPerceptronClassifier\\\",\\\"BernoulliNaiveBayes\\\",\\\"DecisionTree\\\",\\\"LogisticRegression\\\",\\\"ExtremeRandomTrees\\\",\\\"SGD\\\",\\\"MultinomialNaiveBayes\\\",\\\"LinearSVM\\\",\\\"SVM\\\",\\\"TensorFlowLinearClassifier\\\",\\\"RandomForest\\\",\\\"XGBoostClassifier\\\",\\\"GradientBoosting\\\",\\\"TabnetClassifier\\\",\\\"LightGBM\\\",\\\"KNN\\\"],\\\"private_models\\\":[],\\\"auto_blacklist\\\":true,\\\"blacklist_samples_reached\\\":false,\\\"exclude_nan_labels\\\":true,\\\"verbosity\\\":20,\\\"_debug_log\\\":\\\"azureml_automl.log\\\",\\\"show_warnings\\\":false,\\\"model_explainability\\\":true,\\\"service_url\\\":null,\\\"sdk_url\\\":null,\\\"sdk_packages\\\":null,\\\"enable_onnx_compatible_models\\\":false,\\\"enable_split_onnx_featurizer_estimator_models\\\":false,\\\"vm_type\\\":\\\"STANDARD_D2_V2\\\",\\\"telemetry_verbosity\\\":20,\\\"send_telemetry\\\":true,\\\"enable_dnn\\\":false,\\\"scenario\\\":\\\"AutoML\\\",\\\"environment_label\\\":null,\\\"save_mlflow\\\":false,\\\"enable_categorical_indicators\\\":false,\\\"force_text_dnn\\\":false,\\\"enable_feature_sweeping\\\":true,\\\"enable_early_stopping\\\":true,\\\"early_stopping_n_iters\\\":10,\\\"arguments\\\":null,\\\"dataset_id\\\":\\\"b9c641eb-1f6a-415f-82cf-2f441cc7a697\\\",\\\"hyperdrive_config\\\":null,\\\"validation_dataset_id\\\":null,\\\"run_source\\\":null,\\\"metrics\\\":null,\\\"enable_metric_confidence\\\":false,\\\"enable_ensembling\\\":true,\\\"enable_stack_ensembling\\\":true,\\\"ensemble_iterations\\\":15,\\\"enable_tf\\\":false,\\\"enable_subsampling\\\":null,\\\"subsample_seed\\\":null,\\\"enable_nimbusml\\\":false,\\\"enable_streaming\\\":false,\\\"force_streaming\\\":false,\\\"track_child_runs\\\":true,\\\"n_best_runs\\\":1,\\\"allowed_private_models\\\":[],\\\"label_column_name\\\":\\\"DEATH_EVENT\\\",\\\"weight_column_name\\\":null,\\\"cv_split_column_names\\\":null,\\\"enable_local_managed\\\":false,\\\"_local_managed_run_id\\\":null,\\\"cost_mode\\\":1,\\\"lag_length\\\":0,\\\"metric_operation\\\":\\\"maximize\\\",\\\"preprocess\\\":true}\", \"DataPrepJsonString\": \"{\\\\\\\"training_data\\\\\\\": {\\\\\\\"datasetId\\\\\\\": \\\\\\\"b9c641eb-1f6a-415f-82cf-2f441cc7a697\\\\\\\"}, \\\\\\\"datasets\\\\\\\": 0}\", \"EnableSubsampling\": null, \"runTemplate\": \"AutoML\", \"azureml.runsource\": \"automl\", \"display_task_type\": \"classification\", \"dependencies_versions\": \"{\\\"azureml-widgets\\\": \\\"1.48.0\\\", \\\"azureml-training-tabular\\\": \\\"1.48.0\\\", \\\"azureml-train\\\": \\\"1.48.0\\\", \\\"azureml-train-restclients-hyperdrive\\\": \\\"1.48.0\\\", \\\"azureml-train-core\\\": \\\"1.48.0\\\", \\\"azureml-train-automl\\\": \\\"1.48.0\\\", \\\"azureml-train-automl-runtime\\\": \\\"1.48.0\\\", \\\"azureml-train-automl-client\\\": \\\"1.48.0\\\", \\\"azureml-tensorboard\\\": \\\"1.48.0\\\", \\\"azureml-telemetry\\\": \\\"1.48.0\\\", \\\"azureml-sdk\\\": \\\"1.48.0\\\", \\\"azureml-samples\\\": \\\"0+unknown\\\", \\\"azureml-responsibleai\\\": \\\"1.48.0\\\", \\\"azureml-pipeline\\\": \\\"1.48.0\\\", \\\"azureml-pipeline-steps\\\": \\\"1.48.0\\\", \\\"azureml-pipeline-core\\\": \\\"1.48.0\\\", \\\"azureml-opendatasets\\\": \\\"1.48.0\\\", \\\"azureml-mlflow\\\": \\\"1.48.0\\\", \\\"azureml-interpret\\\": \\\"1.48.0\\\", \\\"azureml-inference-server-http\\\": \\\"0.7.7\\\", \\\"azureml-explain-model\\\": \\\"1.48.0\\\", \\\"azureml-defaults\\\": \\\"1.48.0\\\", \\\"azureml-dataset-runtime\\\": \\\"1.48.0\\\", \\\"azureml-dataprep\\\": \\\"4.8.3\\\", \\\"azureml-dataprep-rslex\\\": \\\"2.15.1\\\", \\\"azureml-dataprep-native\\\": \\\"38.0.0\\\", \\\"azureml-datadrift\\\": \\\"1.48.0\\\", \\\"azureml-core\\\": \\\"1.48.0\\\", \\\"azureml-contrib-services\\\": \\\"1.48.0\\\", \\\"azureml-contrib-server\\\": \\\"1.48.0\\\", \\\"azureml-contrib-reinforcementlearning\\\": \\\"1.48.0\\\", \\\"azureml-contrib-pipeline-steps\\\": \\\"1.48.0\\\", \\\"azureml-contrib-notebook\\\": \\\"1.48.0\\\", \\\"azureml-contrib-fairness\\\": \\\"1.48.0\\\", \\\"azureml-contrib-dataset\\\": \\\"1.48.0\\\", \\\"azureml-contrib-automl-pipeline-steps\\\": \\\"1.48.0\\\", \\\"azureml-cli-common\\\": \\\"1.48.0\\\", \\\"azureml-automl-runtime\\\": \\\"1.48.0.post1\\\", \\\"azureml-automl-dnn-nlp\\\": \\\"1.48.0\\\", \\\"azureml-automl-core\\\": \\\"1.48.0\\\", \\\"azureml-accel-models\\\": \\\"1.48.0\\\"}\", \"_aml_system_scenario_identification\": \"Remote.Parent\", \"ClientType\": \"SDK\", \"PlatformVersion\": \"DPV1\", \"environment_cpu_name\": \"AzureML-AutoML\", \"environment_cpu_label\": \"nimbus-deprecation\", \"environment_gpu_name\": \"AzureML-AutoML-GPU\", \"environment_gpu_label\": \"prod\", \"root_attribution\": \"automl\", \"attribution\": \"AutoML\", \"Orchestrator\": \"AutoML\", \"CancelUri\": \"https://westeurope.api.azureml.ms/jasmine/v1.0/subscriptions/eb2fe91a-2797-4c53-bd12-b644f041e7ef/resourceGroups/rg-art-ta-cfp-docker/providers/Microsoft.MachineLearningServices/workspaces/ml_playground/experimentids/500ac389-8131-4090-9b7d-e0a0b4ca7fb9/cancel/AutoML_f28929f9-9212-4c32-92bb-f5d5255b7b4f\", \"ClientSdkVersion\": \"1.48.0.post2\", \"snapshotId\": \"00000000-0000-0000-0000-000000000000\", \"SetupRunId\": \"AutoML_f28929f9-9212-4c32-92bb-f5d5255b7b4f_setup\", \"SetupRunContainerId\": \"dcid.AutoML_f28929f9-9212-4c32-92bb-f5d5255b7b4f_setup\", \"FeaturizationRunJsonPath\": \"featurizer_container.json\", \"FeaturizationRunId\": \"AutoML_f28929f9-9212-4c32-92bb-f5d5255b7b4f_featurize\", \"ProblemInfoJsonString\": \"{\\\"dataset_num_categorical\\\": 0, \\\"is_sparse\\\": false, \\\"subsampling\\\": false, \\\"has_extra_col\\\": true, \\\"dataset_classes\\\": 2, \\\"dataset_features\\\": 12, \\\"dataset_samples\\\": 299, \\\"single_frequency_class_detected\\\": false}\", \"ModelExplainRunId\": \"AutoML_f28929f9-9212-4c32-92bb-f5d5255b7b4f_ModelExplain\"}, \"tags\": {\"model_explain_run\": \"best_run\", \"_aml_system_automl_run_workspace_id\": \"b091f20d-77b4-4796-90ce-a9680e465cab\", \"_aml_system_azureml.automlComponent\": \"AutoML\", \"pipeline_id_000\": \"5dfac790c5c209f98a1da2dc1c7fb76f0397324f;c7af0367625be6ac5c2fecbfc72ed444cb7a2111;799d2168db11fc19b9e1c6c1df62f8981ad39fe9;44b5d2d23120dfcf96a7dc6389a293d17a966b1b;628c2351f7c75d74ad3673f2d39af16d6976da2e;3735210984ea10097d5c91905cf6300ac278cd89;2964988f7520e6167bfe42ba2c42ab4a75f8a68c;5304e705d6f401cb07f85bcf0ca59ac1f84dfcf5;5f21d4801ee2a6073890b89985177d37ef49c646;081b692de9e87424d86c2c1d0787b65e098fc386;294650ec23bc3d067a4972de7ceb12f6e97260fa;08e13545f5f7e2df5ef6a66d4110cfd996b1a0e3;22bffc6cdfb453aa19b0792ec8a8b592bd44dc5b;bc4e14e9481990f09b66c70640f3b1c528f584ac;ce96746d6f86360fe360023f5ae43340d1986145;7b422e7b3f86902c2409d5b5d9ff0c84d5dacfee;ca211529127bb19e1fc933b24b457a03beb5e48e;3caa818370e5e0c328d6266c359019bd31681270;589334a57221e0720a95cf217c065115a7b841d1;35b8e2db3c5f6e714072e1be9f0210fe48426975;3fd2e115482e0c7b92aa3297688aefb6c3aa6fb8;dc68fbd594530b5d52812dd9b3ffa3d6d8ba625e;17f87d449bb43aaf3cdae4b7eb6dd6e7fbdaf343;83c8974d3c3077eb039f99670786892c05e08d80;0a75ac346f04575e8964ffc4fa14a79f565cd944;20f50b65572e940f1a5e415baebbf981a076becc;eec7dd1668df1a4356b23a99e4b6e000b40f98a3;e24d94003b8d24eba8593a7682c9854816aa5e90;809d104499205a4f6a3cd2fe690fd2411e09d318;da45f657e4591caadf1589a85a1f7b8932585595;1dfdf370ba770047b14bfa59c40920815defcdab;f0ea9ff175d03a19ae03ebe2246a695c85b44396;cbbef77cccbd4de8c0d832bcf23c4b1c3448cfe8;5514b33779751d8de84d44049fd977b392dfd7b2;5e2a9fc8c65ae84d868ee8488af164c7e7686b18;cb19524ecaba29fa13fe066e74a0b5c0620fc12b;9ae570c73d438d6be51957bfdf913b72e37df460;487317e5b7051cca9a3f4722bcaeb5569a29e8a4;ffe2dee36b1a25bbc4b512b7611e4d0a9127d962;0d3c64108190bb656510dc470f786bffb3154902;__AutoML_Stack_Ensemble__;__AutoML_Ensemble__\", \"score_000\": \"0.8428248587570621;0.7990395480225988;0.8393785310734465;0.8094350282485877;0.6019209039548021;0.836045197740113;0.7858757062146893;0.8127118644067796;0.6019209039548024;0.7156497175141243;0.8091525423728815;0.8224858757062148;0.7323163841807909;0.7158757062146892;0.7157627118644068;0.7224858757062147;0.7559887005649718;0.8061016949152542;0.8192655367231639;0.8225988700564972;0.8361016949152542;0.8293785310734464;0.8260451977401131;0.8259322033898304;0.8327683615819209;0.8494915254237287;0.8393220338983051;0.8293220338983052;0.67909604519774;0.8160451977401131;0.8428813559322034;0.8327118644067797;0.846271186440678;0.8059322033898304;0.7993785310734464;0.6623728813559322;0.8361016949152542;0.8325988700564972;0.7925423728813559;NaN;0.8629378531073446;0.882994350282486\", \"predicted_cost_000\": \"0;0;0.5;0.5;0.5;0.5;0.5;0.5;0.5;0.5;0.5;0.5;0.5;0.5;0.5;0.5;0.5;0.5;0.5;0.5;0.013397991900924021;0.04189147574032638;0.03094737453765448;0.013591536155524333;0.011413114370806485;0.0858465253061862;0.2732446740771699;0.07167986796989291;0.04411801012324218;0.04570015729238731;0.1778716486689782;0.07656048301030573;0.13363419760640272;0.05454803305242241;0.038209061514501784;0.029244738044672237;0.20817667294016134;0.024210746710674472;0.038432803667435844;0.34447680287506993;0;0\", \"fit_time_000\": \"0.0578568;0.064797;0.22336600000000004;0.03223640000000001;0.0051716;0.0205166;0.0139852;0.010416600000000002;0.0119868;0.0237476;0.021808600000000004;0.37715699999999996;0.0485082;0.012981000000000001;0.006526;0.01323;0.013589;0.0349648;0.028538400000000002;0.020499999999999997;0.030664999999999998;0.029759599999999997;0.10963780000000001;0.038717999999999995;0.047036;0.0992146;0.15220760000000003;0.32033380000000006;0.019956599999999998;0.044696200000000005;0.30115860000000005;0.054652599999999996;0.10712340000000001;0.0196184;0.021245999999999998;0.017233199999999997;0.023354399999999997;0.1530978;0.10716200000000001;NaN;29;29\", \"training_percent_000\": \"100;100;100;100;100;100;100;100;100;100;100;100;100;100;100;100;100;100;100;100;100;100;100;100;100;100;100;100;100;100;100;100;100;100;100;100;100;100;100;100;100;100\", \"iteration_000\": \"0;1;2;3;4;5;6;7;8;9;10;11;12;13;14;15;16;17;18;19;21;24;23;26;25;28;27;29;30;20;22;31;33;32;34;35;38;36;37;39;41;40\", \"run_preprocessor_000\": \"MaxAbsScaler;MaxAbsScaler;MaxAbsScaler;SparseNormalizer;StandardScalerWrapper;MaxAbsScaler;RobustScaler;MaxAbsScaler;StandardScalerWrapper;StandardScalerWrapper;StandardScalerWrapper;MinMaxScaler;StandardScalerWrapper;StandardScalerWrapper;RobustScaler;MinMaxScaler;SparseNormalizer;MaxAbsScaler;StandardScalerWrapper;StandardScalerWrapper;StandardScalerWrapper;StandardScalerWrapper;StandardScalerWrapper;RobustScaler;StandardScalerWrapper;StandardScalerWrapper;StandardScalerWrapper;StandardScalerWrapper;TruncatedSVDWrapper;MaxAbsScaler;SparseNormalizer;RobustScaler;SparseNormalizer;StandardScalerWrapper;StandardScalerWrapper;PCA;StandardScalerWrapper;MaxAbsScaler;StandardScalerWrapper;;;\", \"run_algorithm_000\": \"LightGBM;XGBoostClassifier;ExtremeRandomTrees;XGBoostClassifier;KNN;LightGBM;LogisticRegression;LightGBM;KNN;SVM;XGBoostClassifier;RandomForest;LogisticRegression;KNN;KNN;KNN;KNN;LogisticRegression;XGBoostClassifier;XGBoostClassifier;XGBoostClassifier;XGBoostClassifier;RandomForest;RandomForest;LightGBM;XGBoostClassifier;XGBoostClassifier;XGBoostClassifier;XGBoostClassifier;LogisticRegression;RandomForest;LightGBM;XGBoostClassifier;XGBoostClassifier;LightGBM;XGBoostClassifier;XGBoostClassifier;RandomForest;RandomForest;;StackEnsemble;VotingEnsemble\", \"dynamic_allowlisting_iterations\": \"<25>;<30>;<35>;\", \"_aml_system_azureml.automl_early_exit_message\": \"No scores improved over last 10 iterations, so experiment stopped early. This early stopping behavior can be disabled by setting enable_early_stopping = False in AutoMLConfig for notebook/python SDK runs.\", \"automl_best_child_run_id\": \"AutoML_f28929f9-9212-4c32-92bb-f5d5255b7b4f_40\", \"model_explain_best_run_child_id\": \"AutoML_f28929f9-9212-4c32-92bb-f5d5255b7b4f_40\"}, \"end_time_utc\": \"2023-05-16T12:47:04.415365Z\", \"status\": \"Completed\", \"log_files\": {}, \"log_groups\": [], \"run_duration\": \"0:22:53\", \"run_number\": \"1684239850\", \"run_queued_details\": {\"status\": \"Completed\", \"details\": null}}, \"child_runs\": [{\"run_id\": \"AutoML_f28929f9-9212-4c32-92bb-f5d5255b7b4f_setup\", \"run_number\": 1684239866, \"metric\": null, \"status\": \"Completed\", \"run_type\": \"azureml.scriptrun\", \"training_percent\": null, \"start_time\": \"2023-05-16T12:30:23.679954Z\", \"end_time\": \"2023-05-16T12:32:18.829444Z\", \"created_time\": \"2023-05-16T12:24:26.187274Z\", \"created_time_dt\": \"2023-05-16T12:24:26.187274Z\", \"duration\": \"0:07:52\", \"iteration\": null, \"goal\": null, \"run_name\": \"Completed\", \"run_properties\": null}, {\"run_id\": \"AutoML_f28929f9-9212-4c32-92bb-f5d5255b7b4f_featurize\", \"run_number\": 1684240339, \"metric\": null, \"status\": \"Completed\", \"run_type\": \"automl.featurization\", \"training_percent\": null, \"start_time\": \"2023-05-16T12:32:19.755446Z\", \"end_time\": \"2023-05-16T12:33:09.050234Z\", \"created_time\": \"2023-05-16T12:32:19.380267Z\", \"created_time_dt\": \"2023-05-16T12:32:19.380267Z\", \"duration\": \"0:00:49\", \"iteration\": null, \"goal\": null, \"run_name\": \"Completed\", \"run_properties\": null}, {\"run_id\": \"AutoML_f28929f9-9212-4c32-92bb-f5d5255b7b4f_0\", \"run_number\": 1684240390, \"metric\": null, \"status\": \"Completed\", \"run_type\": null, \"training_percent\": \"100\", \"start_time\": \"2023-05-16T12:33:35.715086Z\", \"end_time\": \"2023-05-16T12:33:49.925674Z\", \"created_time\": \"2023-05-16T12:33:10.364618Z\", \"created_time_dt\": \"2023-05-16T12:33:10.364618Z\", \"duration\": \"0:00:39\", \"iteration\": \"0\", \"goal\": \"accuracy_max\", \"run_name\": \"MaxAbsScaler, LightGBM\", \"run_properties\": \"copy=True\", \"primary_metric\": 0.84282486, \"best_metric\": 0.84282486}, {\"run_id\": \"AutoML_f28929f9-9212-4c32-92bb-f5d5255b7b4f_2\", \"run_number\": 1684240391, \"metric\": null, \"status\": \"Completed\", \"run_type\": null, \"training_percent\": \"100\", \"start_time\": \"2023-05-16T12:34:03.671127Z\", \"end_time\": \"2023-05-16T12:34:17.618197Z\", \"created_time\": \"2023-05-16T12:33:11.597753Z\", \"created_time_dt\": \"2023-05-16T12:33:11.597753Z\", \"duration\": \"0:01:06\", \"iteration\": \"2\", \"goal\": \"accuracy_max\", \"run_name\": \"MaxAbsScaler, ExtremeRandomTrees\", \"run_properties\": \"copy=True\", \"primary_metric\": 0.83937853, \"best_metric\": 0.84282486}, {\"run_id\": \"AutoML_f28929f9-9212-4c32-92bb-f5d5255b7b4f_3\", \"run_number\": 1684240392, \"metric\": null, \"status\": \"Completed\", \"run_type\": null, \"training_percent\": \"100\", \"start_time\": \"2023-05-16T12:34:18.31633Z\", \"end_time\": \"2023-05-16T12:34:31.8739Z\", \"created_time\": \"2023-05-16T12:33:12.136408Z\", \"created_time_dt\": \"2023-05-16T12:33:12.136408Z\", \"duration\": \"0:01:19\", \"iteration\": \"3\", \"goal\": \"accuracy_max\", \"run_name\": \"SparseNormalizer, XGBoostClassifier\", \"run_properties\": \"copy=True, norm='l2'\", \"primary_metric\": 0.80943503, \"best_metric\": 0.84282486}, {\"run_id\": \"AutoML_f28929f9-9212-4c32-92bb-f5d5255b7b4f_worker_0\", \"run_number\": 1684240393, \"metric\": null, \"status\": \"Completed\", \"run_type\": \"azureml.scriptrun\", \"training_percent\": null, \"start_time\": \"2023-05-16T12:33:24.323106Z\", \"end_time\": \"2023-05-16T12:34:53.075536Z\", \"created_time\": \"2023-05-16T12:33:13.114807Z\", \"created_time_dt\": \"2023-05-16T12:33:13.114807Z\", \"duration\": \"0:01:39\", \"iteration\": null, \"goal\": null, \"run_name\": \"Completed\", \"run_properties\": null}, {\"run_id\": \"AutoML_f28929f9-9212-4c32-92bb-f5d5255b7b4f_7\", \"run_number\": 1684240394, \"metric\": null, \"status\": \"Completed\", \"run_type\": null, \"training_percent\": \"100\", \"start_time\": \"2023-05-16T12:35:32.749585Z\", \"end_time\": \"2023-05-16T12:35:44.557619Z\", \"created_time\": \"2023-05-16T12:33:14.542118Z\", \"created_time_dt\": \"2023-05-16T12:33:14.542118Z\", \"duration\": \"0:02:30\", \"iteration\": \"7\", \"goal\": \"accuracy_max\", \"run_name\": \"MaxAbsScaler, LightGBM\", \"run_properties\": \"copy=True\", \"primary_metric\": 0.81271186, \"best_metric\": 0.84282486}, {\"run_id\": \"AutoML_f28929f9-9212-4c32-92bb-f5d5255b7b4f_worker_1\", \"run_number\": 1684240395, \"metric\": null, \"status\": \"Completed\", \"run_type\": \"azureml.scriptrun\", \"training_percent\": null, \"start_time\": \"2023-05-16T12:34:55.113063Z\", \"end_time\": \"2023-05-16T12:36:19.229648Z\", \"created_time\": \"2023-05-16T12:33:15.945716Z\", \"created_time_dt\": \"2023-05-16T12:33:15.945716Z\", \"duration\": \"0:03:03\", \"iteration\": null, \"goal\": null, \"run_name\": \"Completed\", \"run_properties\": null}, {\"run_id\": \"AutoML_f28929f9-9212-4c32-92bb-f5d5255b7b4f_10\", \"run_number\": 1684240396, \"metric\": null, \"status\": \"Completed\", \"run_type\": null, \"training_percent\": \"100\", \"start_time\": \"2023-05-16T12:36:37.32073Z\", \"end_time\": \"2023-05-16T12:36:49.547159Z\", \"created_time\": \"2023-05-16T12:33:16.196751Z\", \"created_time_dt\": \"2023-05-16T12:33:16.196751Z\", \"duration\": \"0:03:33\", \"iteration\": \"10\", \"goal\": \"accuracy_max\", \"run_name\": \"StandardScalerWrapper, XGBoostClassifier\", \"run_properties\": \"copy=True, with_mean=False, with_std=False\", \"primary_metric\": 0.80915254, \"best_metric\": 0.84282486}, {\"run_id\": \"AutoML_f28929f9-9212-4c32-92bb-f5d5255b7b4f_12\", \"run_number\": 1684240397, \"metric\": null, \"status\": \"Completed\", \"run_type\": null, \"training_percent\": \"100\", \"start_time\": \"2023-05-16T12:37:06.550138Z\", \"end_time\": \"2023-05-16T12:37:19.331579Z\", \"created_time\": \"2023-05-16T12:33:17.319814Z\", \"created_time_dt\": \"2023-05-16T12:33:17.319814Z\", \"duration\": \"0:04:02\", \"iteration\": \"12\", \"goal\": \"accuracy_max\", \"run_name\": \"StandardScalerWrapper, LogisticRegression\", \"run_properties\": \"copy=True, with_mean=True, with_std=False\", \"primary_metric\": 0.73231638, \"best_metric\": 0.84282486}, {\"run_id\": \"AutoML_f28929f9-9212-4c32-92bb-f5d5255b7b4f_worker_2\", \"run_number\": 1684240398, \"metric\": null, \"status\": \"Completed\", \"run_type\": \"azureml.scriptrun\", \"training_percent\": null, \"start_time\": \"2023-05-16T12:36:25.582213Z\", \"end_time\": \"2023-05-16T12:37:55.394699Z\", \"created_time\": \"2023-05-16T12:33:18.737479Z\", \"created_time_dt\": \"2023-05-16T12:33:18.737479Z\", \"duration\": \"0:04:36\", \"iteration\": null, \"goal\": null, \"run_name\": \"Completed\", \"run_properties\": null}, {\"run_id\": \"AutoML_f28929f9-9212-4c32-92bb-f5d5255b7b4f_15\", \"run_number\": 1684240399, \"metric\": null, \"status\": \"Completed\", \"run_type\": null, \"training_percent\": \"100\", \"start_time\": \"2023-05-16T12:38:10.733314Z\", \"end_time\": \"2023-05-16T12:38:22.816566Z\", \"created_time\": \"2023-05-16T12:33:18.989474Z\", \"created_time_dt\": \"2023-05-16T12:33:18.989474Z\", \"duration\": \"0:05:03\", \"iteration\": \"15\", \"goal\": \"accuracy_max\", \"run_name\": \"MinMaxScaler, KNN\", \"run_properties\": \"copy=True, feature_range=(0, 1\", \"primary_metric\": 0.72248588, \"best_metric\": 0.84282486}, {\"run_id\": \"AutoML_f28929f9-9212-4c32-92bb-f5d5255b7b4f_17\", \"run_number\": 1684240400, \"metric\": null, \"status\": \"Completed\", \"run_type\": null, \"training_percent\": \"100\", \"start_time\": \"2023-05-16T12:38:37.009675Z\", \"end_time\": \"2023-05-16T12:38:49.427986Z\", \"created_time\": \"2023-05-16T12:33:20.061712Z\", \"created_time_dt\": \"2023-05-16T12:33:20.061712Z\", \"duration\": \"0:05:29\", \"iteration\": \"17\", \"goal\": \"accuracy_max\", \"run_name\": \"MaxAbsScaler, LogisticRegression\", \"run_properties\": \"copy=True\", \"primary_metric\": 0.80610169, \"best_metric\": 0.84282486}, {\"run_id\": \"AutoML_f28929f9-9212-4c32-92bb-f5d5255b7b4f_worker_3\", \"run_number\": 1684240401, \"metric\": null, \"status\": \"Completed\", \"run_type\": \"azureml.scriptrun\", \"training_percent\": null, \"start_time\": \"2023-05-16T12:37:59.948071Z\", \"end_time\": \"2023-05-16T12:39:23.905122Z\", \"created_time\": \"2023-05-16T12:33:21.491821Z\", \"created_time_dt\": \"2023-05-16T12:33:21.491821Z\", \"duration\": \"0:06:02\", \"iteration\": null, \"goal\": null, \"run_name\": \"Completed\", \"run_properties\": null}, {\"run_id\": \"AutoML_f28929f9-9212-4c32-92bb-f5d5255b7b4f_20\", \"run_number\": 1684240721, \"metric\": null, \"status\": \"Completed\", \"run_type\": \"azureml.scriptrun\", \"training_percent\": \"100\", \"start_time\": \"2023-05-16T12:38:58.913387Z\", \"end_time\": \"2023-05-16T12:44:04.29574Z\", \"created_time\": \"2023-05-16T12:38:41.090724Z\", \"created_time_dt\": \"2023-05-16T12:38:41.090724Z\", \"duration\": \"0:05:23\", \"iteration\": \"20\", \"goal\": \"accuracy_max\", \"run_name\": \"MaxAbsScaler, LogisticRegression\", \"run_properties\": \"copy=True\", \"primary_metric\": 0.8160452, \"best_metric\": 0.84282486}, {\"run_id\": \"AutoML_f28929f9-9212-4c32-92bb-f5d5255b7b4f_24\", \"run_number\": 1684240869, \"metric\": null, \"status\": \"Completed\", \"run_type\": \"azureml.scriptrun\", \"training_percent\": \"100\", \"start_time\": \"2023-05-16T12:41:17.381042Z\", \"end_time\": \"2023-05-16T12:41:49.309427Z\", \"created_time\": \"2023-05-16T12:41:09.250371Z\", \"created_time_dt\": \"2023-05-16T12:41:09.250371Z\", \"duration\": \"0:00:40\", \"iteration\": \"24\", \"goal\": \"accuracy_max\", \"run_name\": \"StandardScalerWrapper, XGBoostClassifier\", \"run_properties\": \"copy=True, with_mean=False, with_std=False\", \"primary_metric\": 0.82937853, \"best_metric\": 0.84282486}, {\"run_id\": \"AutoML_f28929f9-9212-4c32-92bb-f5d5255b7b4f_25\", \"run_number\": 1684240912, \"metric\": null, \"status\": \"Completed\", \"run_type\": \"azureml.scriptrun\", \"training_percent\": \"100\", \"start_time\": \"2023-05-16T12:42:01.548128Z\", \"end_time\": \"2023-05-16T12:42:33.996455Z\", \"created_time\": \"2023-05-16T12:41:52.695322Z\", \"created_time_dt\": \"2023-05-16T12:41:52.695322Z\", \"duration\": \"0:00:41\", \"iteration\": \"25\", \"goal\": \"accuracy_max\", \"run_name\": \"StandardScalerWrapper, LightGBM\", \"run_properties\": \"copy=True, with_mean=True, with_std=False\", \"primary_metric\": 0.83276836, \"best_metric\": 0.84282486}, {\"run_id\": \"AutoML_f28929f9-9212-4c32-92bb-f5d5255b7b4f_26\", \"run_number\": 1684240915, \"metric\": null, \"status\": \"Completed\", \"run_type\": \"azureml.scriptrun\", \"training_percent\": \"100\", \"start_time\": \"2023-05-16T12:42:03.707824Z\", \"end_time\": \"2023-05-16T12:42:34.121493Z\", \"created_time\": \"2023-05-16T12:41:55.49388Z\", \"created_time_dt\": \"2023-05-16T12:41:55.49388Z\", \"duration\": \"0:00:38\", \"iteration\": \"26\", \"goal\": \"accuracy_max\", \"run_name\": \"RobustScaler, RandomForest\", \"run_properties\": \"copy=True, quantile_range=[10, 90], with_centering=True,\\n             with_scaling=True\", \"primary_metric\": 0.8259322, \"best_metric\": 0.84282486}, {\"run_id\": \"AutoML_f28929f9-9212-4c32-92bb-f5d5255b7b4f_28\", \"run_number\": 1684240955, \"metric\": null, \"status\": \"Completed\", \"run_type\": \"azureml.scriptrun\", \"training_percent\": \"100\", \"start_time\": \"2023-05-16T12:42:43.786952Z\", \"end_time\": \"2023-05-16T12:43:14.578006Z\", \"created_time\": \"2023-05-16T12:42:35.911116Z\", \"created_time_dt\": \"2023-05-16T12:42:35.911116Z\", \"duration\": \"0:00:38\", \"iteration\": \"28\", \"goal\": \"accuracy_max\", \"run_name\": \"StandardScalerWrapper, XGBoostClassifier\", \"run_properties\": \"copy=True, with_mean=False, with_std=False\", \"primary_metric\": 0.84949153, \"best_metric\": 0.84949153}, {\"run_id\": \"AutoML_f28929f9-9212-4c32-92bb-f5d5255b7b4f_29\", \"run_number\": 1684240996, \"metric\": null, \"status\": \"Completed\", \"run_type\": \"azureml.scriptrun\", \"training_percent\": \"100\", \"start_time\": \"2023-05-16T12:43:26.211462Z\", \"end_time\": \"2023-05-16T12:44:00.386634Z\", \"created_time\": \"2023-05-16T12:43:16.658939Z\", \"created_time_dt\": \"2023-05-16T12:43:16.658939Z\", \"duration\": \"0:00:43\", \"iteration\": \"29\", \"goal\": \"accuracy_max\", \"run_name\": \"StandardScalerWrapper, XGBoostClassifier\", \"run_properties\": \"copy=True, with_mean=False, with_std=False\", \"primary_metric\": 0.82932203, \"best_metric\": 0.84949153}, {\"run_id\": \"AutoML_f28929f9-9212-4c32-92bb-f5d5255b7b4f_30\", \"run_number\": 1684241001, \"metric\": null, \"status\": \"Completed\", \"run_type\": \"azureml.scriptrun\", \"training_percent\": \"100\", \"start_time\": \"2023-05-16T12:43:31.154185Z\", \"end_time\": \"2023-05-16T12:44:01.208173Z\", \"created_time\": \"2023-05-16T12:43:21.305358Z\", \"created_time_dt\": \"2023-05-16T12:43:21.305358Z\", \"duration\": \"0:00:39\", \"iteration\": \"30\", \"goal\": \"accuracy_max\", \"run_name\": \"TruncatedSVDWrapper, XGBoostClassifier\", \"run_properties\": \"n_components=0.8510526315789474, random_state=None\", \"primary_metric\": 0.67909605, \"best_metric\": 0.84949153}, {\"run_id\": \"AutoML_f28929f9-9212-4c32-92bb-f5d5255b7b4f_31\", \"run_number\": 1684241042, \"metric\": null, \"status\": \"Completed\", \"run_type\": \"azureml.scriptrun\", \"training_percent\": \"100\", \"start_time\": \"2023-05-16T12:44:12.663192Z\", \"end_time\": \"2023-05-16T12:44:45.557945Z\", \"created_time\": \"2023-05-16T12:44:02.420456Z\", \"created_time_dt\": \"2023-05-16T12:44:02.420456Z\", \"duration\": \"0:00:43\", \"iteration\": \"31\", \"goal\": \"accuracy_max\", \"run_name\": \"RobustScaler, LightGBM\", \"run_properties\": \"copy=True, quantile_range=[25, 75], with_centering=True,\\n             with_scaling=False\", \"primary_metric\": 0.83271186, \"best_metric\": 0.84949153}, {\"run_id\": \"AutoML_f28929f9-9212-4c32-92bb-f5d5255b7b4f_32\", \"run_number\": 1684241045, \"metric\": null, \"status\": \"Completed\", \"run_type\": \"azureml.scriptrun\", \"training_percent\": \"100\", \"start_time\": \"2023-05-16T12:44:13.952501Z\", \"end_time\": \"2023-05-16T12:44:46.160592Z\", \"created_time\": \"2023-05-16T12:44:05.504138Z\", \"created_time_dt\": \"2023-05-16T12:44:05.504138Z\", \"duration\": \"0:00:40\", \"iteration\": \"32\", \"goal\": \"accuracy_max\", \"run_name\": \"StandardScalerWrapper, XGBoostClassifier\", \"run_properties\": \"copy=True, with_mean=False, with_std=False\", \"primary_metric\": 0.8059322, \"best_metric\": 0.84949153}, {\"run_id\": \"AutoML_f28929f9-9212-4c32-92bb-f5d5255b7b4f_33\", \"run_number\": 1684241048, \"metric\": null, \"status\": \"Completed\", \"run_type\": \"azureml.scriptrun\", \"training_percent\": \"100\", \"start_time\": \"2023-05-16T12:44:16.717457Z\", \"end_time\": \"2023-05-16T12:44:48.557435Z\", \"created_time\": \"2023-05-16T12:44:08.120989Z\", \"created_time_dt\": \"2023-05-16T12:44:08.120989Z\", \"duration\": \"0:00:40\", \"iteration\": \"33\", \"goal\": \"accuracy_max\", \"run_name\": \"SparseNormalizer, XGBoostClassifier\", \"run_properties\": \"copy=True, norm='l1'\", \"primary_metric\": 0.84627119, \"best_metric\": 0.84949153}, {\"run_id\": \"AutoML_f28929f9-9212-4c32-92bb-f5d5255b7b4f_34\", \"run_number\": 1684241050, \"metric\": null, \"status\": \"Completed\", \"run_type\": \"azureml.scriptrun\", \"training_percent\": \"100\", \"start_time\": \"2023-05-16T12:44:21.63761Z\", \"end_time\": \"2023-05-16T12:44:51.188723Z\", \"created_time\": \"2023-05-16T12:44:10.970011Z\", \"created_time_dt\": \"2023-05-16T12:44:10.970011Z\", \"duration\": \"0:00:40\", \"iteration\": \"34\", \"goal\": \"accuracy_max\", \"run_name\": \"StandardScalerWrapper, LightGBM\", \"run_properties\": \"copy=True, with_mean=True, with_std=True\", \"primary_metric\": 0.79937853, \"best_metric\": 0.84949153}, {\"run_id\": \"AutoML_f28929f9-9212-4c32-92bb-f5d5255b7b4f_35\", \"run_number\": 1684241089, \"metric\": null, \"status\": \"Completed\", \"run_type\": \"azureml.scriptrun\", \"training_percent\": \"100\", \"start_time\": \"2023-05-16T12:44:56.325901Z\", \"end_time\": \"2023-05-16T12:45:30.199707Z\", \"created_time\": \"2023-05-16T12:44:49.002271Z\", \"created_time_dt\": \"2023-05-16T12:44:49.002271Z\", \"duration\": \"0:00:41\", \"iteration\": \"35\", \"goal\": \"accuracy_max\", \"run_name\": \"PCA, XGBoostClassifier\", \"run_properties\": \"copy=True, iterated_power='auto', n_components=0.15842105263157896,\\n    random_state=None, svd_solver='auto', tol=0.0, whiten=False\", \"primary_metric\": 0.66237288, \"best_metric\": 0.84949153}, {\"run_id\": \"AutoML_f28929f9-9212-4c32-92bb-f5d5255b7b4f_37\", \"run_number\": 1684241091, \"metric\": null, \"status\": \"Completed\", \"run_type\": \"azureml.scriptrun\", \"training_percent\": \"100\", \"start_time\": \"2023-05-16T12:44:59.212636Z\", \"end_time\": \"2023-05-16T12:45:31.255257Z\", \"created_time\": \"2023-05-16T12:44:51.707258Z\", \"created_time_dt\": \"2023-05-16T12:44:51.707258Z\", \"duration\": \"0:00:39\", \"iteration\": \"37\", \"goal\": \"accuracy_max\", \"run_name\": \"StandardScalerWrapper, RandomForest\", \"run_properties\": \"copy=True, with_mean=False, with_std=False\", \"primary_metric\": 0.79254237, \"best_metric\": 0.84949153}, {\"run_id\": \"AutoML_f28929f9-9212-4c32-92bb-f5d5255b7b4f_38\", \"run_number\": 1684241094, \"metric\": null, \"status\": \"Completed\", \"run_type\": \"azureml.scriptrun\", \"training_percent\": \"100\", \"start_time\": \"2023-05-16T12:45:03.270356Z\", \"end_time\": \"2023-05-16T12:45:33.684377Z\", \"created_time\": \"2023-05-16T12:44:54.851293Z\", \"created_time_dt\": \"2023-05-16T12:44:54.851293Z\", \"duration\": \"0:00:38\", \"iteration\": \"38\", \"goal\": \"accuracy_max\", \"run_name\": \"StandardScalerWrapper, XGBoostClassifier\", \"run_properties\": \"copy=True, with_mean=False, with_std=False\", \"primary_metric\": 0.83610169, \"best_metric\": 0.84949153}, {\"run_id\": \"AutoML_f28929f9-9212-4c32-92bb-f5d5255b7b4f_39\", \"run_number\": 1684241132, \"metric\": null, \"status\": \"Canceled\", \"run_type\": \"azureml.scriptrun\", \"training_percent\": \"100\", \"start_time\": \"2023-05-16T12:45:34.423063Z\", \"end_time\": \"2023-05-16T12:45:35.578583Z\", \"created_time\": \"2023-05-16T12:45:32.072712Z\", \"created_time_dt\": \"2023-05-16T12:45:32.072712Z\", \"duration\": \"0:00:03\", \"iteration\": \"39\", \"goal\": null, \"run_name\": \"Canceled\", \"run_properties\": null}, {\"run_id\": \"AutoML_f28929f9-9212-4c32-92bb-f5d5255b7b4f_41\", \"run_number\": 1684241136, \"metric\": null, \"status\": \"Completed\", \"run_type\": \"azureml.scriptrun\", \"training_percent\": \"100\", \"start_time\": \"2023-05-16T12:45:49.599436Z\", \"end_time\": \"2023-05-16T12:46:59.883778Z\", \"created_time\": \"2023-05-16T12:45:36.575254Z\", \"created_time_dt\": \"2023-05-16T12:45:36.575254Z\", \"duration\": \"0:01:23\", \"iteration\": \"41\", \"goal\": \"accuracy_max\", \"run_name\": \"StackEnsemble\", \"run_properties\": \"base_learners=[('28', Pipeline(memory=None, steps=[('standardscalerwrapper', StandardScalerWrapper(copy=True, with_mean=False, with_std=False\", \"primary_metric\": 0.86293785, \"best_metric\": 0.86293785}], \"children_metrics\": {\"categories\": [0], \"series\": {\"AUC_weighted\": [{\"categories\": [\"0\", \"2\", \"3\", \"7\", \"10\", \"12\", \"15\", \"17\", \"20\", \"24\", \"25\", \"26\", \"28\", \"29\", \"30\", \"31\", \"32\", \"33\", \"34\", \"35\", \"37\", \"38\", \"41\"], \"mode\": \"markers\", \"name\": \"AUC_weighted\", \"stepped\": false, \"type\": \"scatter\", \"data\": [0.8923947259136213, 0.8726898301956443, 0.8519876914913252, 0.9045800110741972, 0.8676549003322258, 0.8589118909191583, 0.6728506367663345, 0.8716356127722407, 0.8677544296788483, 0.901281872923588, 0.8966773025101513, 0.8886687315430049, 0.8883558508674788, 0.8955714631782946, 0.5, 0.8938917497231451, 0.8977393295496494, 0.9007715946843854, 0.8918363210594317, 0.48899905407899596, 0.8722666112956811, 0.8899990540789959, 0.9095243170911775]}, {\"categories\": [\"0\", \"2\", \"3\", \"7\", \"10\", \"12\", \"15\", \"17\", \"20\", \"24\", \"25\", \"26\", \"28\", \"29\", \"30\", \"31\", \"32\", \"33\", \"34\", \"35\", \"37\", \"38\", \"41\"], \"mode\": \"lines\", \"name\": \"AUC_weighted_max\", \"stepped\": true, \"type\": \"scatter\", \"data\": [0.8923947259136213, 0.8923947259136213, 0.8923947259136213, 0.9045800110741972, 0.9045800110741972, 0.9045800110741972, 0.9045800110741972, 0.9045800110741972, 0.9045800110741972, 0.9045800110741972, 0.9045800110741972, 0.9045800110741972, 0.9045800110741972, 0.9045800110741972, 0.9045800110741972, 0.9045800110741972, 0.9045800110741972, 0.9045800110741972, 0.9045800110741972, 0.9045800110741972, 0.9045800110741972, 0.9045800110741972, 0.9095243170911775]}], \"recall_score_micro\": [{\"categories\": [\"0\", \"2\", \"3\", \"7\", \"10\", \"12\", \"15\", \"17\", \"20\", \"24\", \"25\", \"26\", \"28\", \"29\", \"30\", \"31\", \"32\", \"33\", \"34\", \"35\", \"37\", \"38\", \"41\"], \"mode\": \"markers\", \"name\": \"recall_score_micro\", \"stepped\": false, \"type\": \"scatter\", \"data\": [0.8428248587570621, 0.8393785310734465, 0.8094350282485877, 0.8127118644067796, 0.8091525423728815, 0.7323163841807909, 0.7224858757062147, 0.8061016949152542, 0.8160451977401131, 0.8293785310734464, 0.8327683615819209, 0.8259322033898304, 0.8494915254237287, 0.8293220338983052, 0.67909604519774, 0.8327118644067797, 0.8059322033898304, 0.846271186440678, 0.7993785310734464, 0.6623728813559322, 0.7925423728813559, 0.8361016949152542, 0.8629378531073446]}, {\"categories\": [\"0\", \"2\", \"3\", \"7\", \"10\", \"12\", \"15\", \"17\", \"20\", \"24\", \"25\", \"26\", \"28\", \"29\", \"30\", \"31\", \"32\", \"33\", \"34\", \"35\", \"37\", \"38\", \"41\"], \"mode\": \"lines\", \"name\": \"recall_score_micro_max\", \"stepped\": true, \"type\": \"scatter\", \"data\": [0.8428248587570621, 0.8428248587570621, 0.8428248587570621, 0.8428248587570621, 0.8428248587570621, 0.8428248587570621, 0.8428248587570621, 0.8428248587570621, 0.8428248587570621, 0.8428248587570621, 0.8428248587570621, 0.8428248587570621, 0.8494915254237287, 0.8494915254237287, 0.8494915254237287, 0.8494915254237287, 0.8494915254237287, 0.8494915254237287, 0.8494915254237287, 0.8494915254237287, 0.8494915254237287, 0.8494915254237287, 0.8629378531073446]}], \"f1_score_weighted\": [{\"categories\": [\"0\", \"2\", \"3\", \"7\", \"10\", \"12\", \"15\", \"17\", \"20\", \"24\", \"25\", \"26\", \"28\", \"29\", \"30\", \"31\", \"32\", \"33\", \"34\", \"35\", \"37\", \"38\", \"41\"], \"mode\": \"markers\", \"name\": \"f1_score_weighted\", \"stepped\": false, \"type\": \"scatter\", \"data\": [0.8401132576354581, 0.840514482546561, 0.8021659676574264, 0.7994986382081839, 0.8051394033601141, 0.7414913615635321, 0.6769961870192459, 0.7983360665860388, 0.8111375615251999, 0.828232403292783, 0.8259565183972812, 0.8249908729936382, 0.8419798938023391, 0.826339639720613, 0.5526564268547016, 0.8288641881135785, 0.7953993657568647, 0.8406328405645043, 0.7873210279394594, 0.5641599745573186, 0.7937588821817755, 0.8321164328250166, 0.8559684025076267]}, {\"categories\": [\"0\", \"2\", \"3\", \"7\", \"10\", \"12\", \"15\", \"17\", \"20\", \"24\", \"25\", \"26\", \"28\", \"29\", \"30\", \"31\", \"32\", \"33\", \"34\", \"35\", \"37\", \"38\", \"41\"], \"mode\": \"lines\", \"name\": \"f1_score_weighted_max\", \"stepped\": true, \"type\": \"scatter\", \"data\": [0.8401132576354581, 0.840514482546561, 0.840514482546561, 0.840514482546561, 0.840514482546561, 0.840514482546561, 0.840514482546561, 0.840514482546561, 0.840514482546561, 0.840514482546561, 0.840514482546561, 0.840514482546561, 0.8419798938023391, 0.8419798938023391, 0.8419798938023391, 0.8419798938023391, 0.8419798938023391, 0.8419798938023391, 0.8419798938023391, 0.8419798938023391, 0.8419798938023391, 0.8419798938023391, 0.8559684025076267]}], \"f1_score_macro\": [{\"categories\": [\"0\", \"2\", \"3\", \"7\", \"10\", \"12\", \"15\", \"17\", \"20\", \"24\", \"25\", \"26\", \"28\", \"29\", \"30\", \"31\", \"32\", \"33\", \"34\", \"35\", \"37\", \"38\", \"41\"], \"mode\": \"markers\", \"name\": \"f1_score_macro\", \"stepped\": false, \"type\": \"scatter\", \"data\": [0.8120777859845001, 0.8116460449404412, 0.7565118925684884, 0.7608534582035815, 0.7663110546964017, 0.7122738703639705, 0.5931375899123159, 0.7638066281867016, 0.777731957024298, 0.7982413770467163, 0.7946300278778375, 0.7951620979709736, 0.8130519417450831, 0.7944708797607573, 0.40276783177038933, 0.8003772170765784, 0.756638605714236, 0.8104116534822567, 0.7449279069741677, 0.4343184421534937, 0.7570772390481674, 0.8046985439888668, 0.8305374621766383]}, {\"categories\": [\"0\", \"2\", \"3\", \"7\", \"10\", \"12\", \"15\", \"17\", \"20\", \"24\", \"25\", \"26\", \"28\", \"29\", \"30\", \"31\", \"32\", \"33\", \"34\", \"35\", \"37\", \"38\", \"41\"], \"mode\": \"lines\", \"name\": \"f1_score_macro_max\", \"stepped\": true, \"type\": \"scatter\", \"data\": [0.8120777859845001, 0.8120777859845001, 0.8120777859845001, 0.8120777859845001, 0.8120777859845001, 0.8120777859845001, 0.8120777859845001, 0.8120777859845001, 0.8120777859845001, 0.8120777859845001, 0.8120777859845001, 0.8120777859845001, 0.8130519417450831, 0.8130519417450831, 0.8130519417450831, 0.8130519417450831, 0.8130519417450831, 0.8130519417450831, 0.8130519417450831, 0.8130519417450831, 0.8130519417450831, 0.8130519417450831, 0.8305374621766383]}], \"recall_score_macro\": [{\"categories\": [\"0\", \"2\", \"3\", \"7\", \"10\", \"12\", \"15\", \"17\", \"20\", \"24\", \"25\", \"26\", \"28\", \"29\", \"30\", \"31\", \"32\", \"33\", \"34\", \"35\", \"37\", \"38\", \"41\"], \"mode\": \"markers\", \"name\": \"recall_score_macro\", \"stepped\": false, \"type\": \"scatter\", \"data\": [0.8149916943521595, 0.8239375692137321, 0.7492732558139534, 0.7500131506090808, 0.772296511627907, 0.7542019656699889, 0.6044559800664452, 0.7737375415282393, 0.7885548172757475, 0.8053066168327797, 0.7915012458471761, 0.8045840254706533, 0.8080613233665559, 0.8029554263565892, 0.5, 0.8066756644518274, 0.7456679125138427, 0.8043410852713178, 0.7412631506090808, 0.5026363510520487, 0.7667524916943522, 0.8126065891472868, 0.8284821428571428]}, {\"categories\": [\"0\", \"2\", \"3\", \"7\", \"10\", \"12\", \"15\", \"17\", \"20\", \"24\", \"25\", \"26\", \"28\", \"29\", \"30\", \"31\", \"32\", \"33\", \"34\", \"35\", \"37\", \"38\", \"41\"], \"mode\": \"lines\", \"name\": \"recall_score_macro_max\", \"stepped\": true, \"type\": \"scatter\", \"data\": [0.8149916943521595, 0.8239375692137321, 0.8239375692137321, 0.8239375692137321, 0.8239375692137321, 0.8239375692137321, 0.8239375692137321, 0.8239375692137321, 0.8239375692137321, 0.8239375692137321, 0.8239375692137321, 0.8239375692137321, 0.8239375692137321, 0.8239375692137321, 0.8239375692137321, 0.8239375692137321, 0.8239375692137321, 0.8239375692137321, 0.8239375692137321, 0.8239375692137321, 0.8239375692137321, 0.8239375692137321, 0.8284821428571428]}], \"average_precision_score_micro\": [{\"categories\": [\"0\", \"2\", \"3\", \"7\", \"10\", \"12\", \"15\", \"17\", \"20\", \"24\", \"25\", \"26\", \"28\", \"29\", \"30\", \"31\", \"32\", \"33\", \"34\", \"35\", \"37\", \"38\", \"41\"], \"mode\": \"markers\", \"name\": \"average_precision_score_micro\", \"stepped\": false, \"type\": \"scatter\", \"data\": [0.9006531196119575, 0.8859868435843399, 0.8613245505961162, 0.8906102846131226, 0.880931148420539, 0.8272462978429674, 0.7389147548518208, 0.8838790578102869, 0.8798593368124621, 0.9076890811500663, 0.894400700433763, 0.894318774640193, 0.8906723568408005, 0.897084325959667, 0.6293524849181271, 0.9016361476209456, 0.8993423571041264, 0.9035892703502066, 0.8800084827273087, 0.6518917214341702, 0.8839513200483552, 0.9007758310759639, 0.8973084449633575]}, {\"categories\": [\"0\", \"2\", \"3\", \"7\", \"10\", \"12\", \"15\", \"17\", \"20\", \"24\", \"25\", \"26\", \"28\", \"29\", \"30\", \"31\", \"32\", \"33\", \"34\", \"35\", \"37\", \"38\", \"41\"], \"mode\": \"lines\", \"name\": \"average_precision_score_micro_max\", \"stepped\": true, \"type\": \"scatter\", \"data\": [0.9006531196119575, 0.9006531196119575, 0.9006531196119575, 0.9006531196119575, 0.9006531196119575, 0.9006531196119575, 0.9006531196119575, 0.9006531196119575, 0.9006531196119575, 0.9076890811500663, 0.9076890811500663, 0.9076890811500663, 0.9076890811500663, 0.9076890811500663, 0.9076890811500663, 0.9076890811500663, 0.9076890811500663, 0.9076890811500663, 0.9076890811500663, 0.9076890811500663, 0.9076890811500663, 0.9076890811500663, 0.9076890811500663]}], \"precision_score_macro\": [{\"categories\": [\"0\", \"2\", \"3\", \"7\", \"10\", \"12\", \"15\", \"17\", \"20\", \"24\", \"25\", \"26\", \"28\", \"29\", \"30\", \"31\", \"32\", \"33\", \"34\", \"35\", \"37\", \"38\", \"41\"], \"mode\": \"markers\", \"name\": \"precision_score_macro\", \"stepped\": false, \"type\": \"scatter\", \"data\": [0.8271330541439237, 0.8133060077177724, 0.7928858860843135, 0.8209751775249992, 0.7861326905871193, 0.7194071320836027, 0.7160157380745615, 0.8017021258491441, 0.8057518640185325, 0.8064871190121388, 0.8276466528640443, 0.8041734181381255, 0.8516880940513838, 0.8121839875100745, 0.33954802259887, 0.817593002375611, 0.7992863259928477, 0.8457427337283953, 0.7948781428694208, 0.4631363850238623, 0.758048598789982, 0.8269635293795433, 0.8710024954976123]}, {\"categories\": [\"0\", \"2\", \"3\", \"7\", \"10\", \"12\", \"15\", \"17\", \"20\", \"24\", \"25\", \"26\", \"28\", \"29\", \"30\", \"31\", \"32\", \"33\", \"34\", \"35\", \"37\", \"38\", \"41\"], \"mode\": \"lines\", \"name\": \"precision_score_macro_max\", \"stepped\": true, \"type\": \"scatter\", \"data\": [0.8271330541439237, 0.8271330541439237, 0.8271330541439237, 0.8271330541439237, 0.8271330541439237, 0.8271330541439237, 0.8271330541439237, 0.8271330541439237, 0.8271330541439237, 0.8271330541439237, 0.8276466528640443, 0.8276466528640443, 0.8516880940513838, 0.8516880940513838, 0.8516880940513838, 0.8516880940513838, 0.8516880940513838, 0.8516880940513838, 0.8516880940513838, 0.8516880940513838, 0.8516880940513838, 0.8516880940513838, 0.8710024954976123]}], \"precision_score_weighted\": [{\"categories\": [\"0\", \"2\", \"3\", \"7\", \"10\", \"12\", \"15\", \"17\", \"20\", \"24\", \"25\", \"26\", \"28\", \"29\", \"30\", \"31\", \"32\", \"33\", \"34\", \"35\", \"37\", \"38\", \"41\"], \"mode\": \"markers\", \"name\": \"precision_score_weighted\", \"stepped\": false, \"type\": \"scatter\", \"data\": [0.8524277365010601, 0.853308324665254, 0.8213680988857771, 0.8284097525499643, 0.8248060230194989, 0.7919000702410472, 0.7426049843218337, 0.833293551294392, 0.8407374045536857, 0.8409194406074952, 0.8459749759233915, 0.8408121098003509, 0.8626444726670084, 0.8470039487246561, 0.4689005075169971, 0.8470235598459623, 0.8125440305784448, 0.8610182112315259, 0.81507677053851, 0.5512401921747025, 0.803072613762122, 0.8549881924801968, 0.8809429418335807]}, {\"categories\": [\"0\", \"2\", \"3\", \"7\", \"10\", \"12\", \"15\", \"17\", \"20\", \"24\", \"25\", \"26\", \"28\", \"29\", \"30\", \"31\", \"32\", \"33\", \"34\", \"35\", \"37\", \"38\", \"41\"], \"mode\": \"lines\", \"name\": \"precision_score_weighted_max\", \"stepped\": true, \"type\": \"scatter\", \"data\": [0.8524277365010601, 0.853308324665254, 0.853308324665254, 0.853308324665254, 0.853308324665254, 0.853308324665254, 0.853308324665254, 0.853308324665254, 0.853308324665254, 0.853308324665254, 0.853308324665254, 0.853308324665254, 0.8626444726670084, 0.8626444726670084, 0.8626444726670084, 0.8626444726670084, 0.8626444726670084, 0.8626444726670084, 0.8626444726670084, 0.8626444726670084, 0.8626444726670084, 0.8626444726670084, 0.8809429418335807]}], \"balanced_accuracy\": [{\"categories\": [\"0\", \"2\", \"3\", \"7\", \"10\", \"12\", \"15\", \"17\", \"20\", \"24\", \"25\", \"26\", \"28\", \"29\", \"30\", \"31\", \"32\", \"33\", \"34\", \"35\", \"37\", \"38\", \"41\"], \"mode\": \"markers\", \"name\": \"balanced_accuracy\", \"stepped\": false, \"type\": \"scatter\", \"data\": [0.8149916943521595, 0.8239375692137321, 0.7492732558139534, 0.7500131506090808, 0.772296511627907, 0.7542019656699889, 0.6044559800664452, 0.7737375415282393, 0.7885548172757475, 0.8053066168327797, 0.7915012458471761, 0.8045840254706533, 0.8080613233665559, 0.8029554263565892, 0.5, 0.8066756644518274, 0.7456679125138427, 0.8043410852713178, 0.7412631506090808, 0.5026363510520487, 0.7667524916943522, 0.8126065891472868, 0.8284821428571428]}, {\"categories\": [\"0\", \"2\", \"3\", \"7\", \"10\", \"12\", \"15\", \"17\", \"20\", \"24\", \"25\", \"26\", \"28\", \"29\", \"30\", \"31\", \"32\", \"33\", \"34\", \"35\", \"37\", \"38\", \"41\"], \"mode\": \"lines\", \"name\": \"balanced_accuracy_max\", \"stepped\": true, \"type\": \"scatter\", \"data\": [0.8149916943521595, 0.8239375692137321, 0.8239375692137321, 0.8239375692137321, 0.8239375692137321, 0.8239375692137321, 0.8239375692137321, 0.8239375692137321, 0.8239375692137321, 0.8239375692137321, 0.8239375692137321, 0.8239375692137321, 0.8239375692137321, 0.8239375692137321, 0.8239375692137321, 0.8239375692137321, 0.8239375692137321, 0.8239375692137321, 0.8239375692137321, 0.8239375692137321, 0.8239375692137321, 0.8239375692137321, 0.8284821428571428]}], \"AUC_macro\": [{\"categories\": [\"0\", \"2\", \"3\", \"7\", \"10\", \"12\", \"15\", \"17\", \"20\", \"24\", \"25\", \"26\", \"28\", \"29\", \"30\", \"31\", \"32\", \"33\", \"34\", \"35\", \"37\", \"38\", \"41\"], \"mode\": \"markers\", \"name\": \"AUC_macro\", \"stepped\": false, \"type\": \"scatter\", \"data\": [0.8923947259136213, 0.8726898301956443, 0.8519876914913252, 0.9045800110741972, 0.8676549003322259, 0.8589118909191583, 0.6728506367663345, 0.8716356127722407, 0.8677544296788483, 0.901281872923588, 0.8966773025101513, 0.8886687315430049, 0.8883558508674788, 0.8955714631782946, 0.5, 0.8938917497231451, 0.8977393295496494, 0.9007715946843854, 0.8918363210594317, 0.48899905407899596, 0.8722666112956811, 0.8899990540789959, 0.9095243170911775]}, {\"categories\": [\"0\", \"2\", \"3\", \"7\", \"10\", \"12\", \"15\", \"17\", \"20\", \"24\", \"25\", \"26\", \"28\", \"29\", \"30\", \"31\", \"32\", \"33\", \"34\", \"35\", \"37\", \"38\", \"41\"], \"mode\": \"lines\", \"name\": \"AUC_macro_max\", \"stepped\": true, \"type\": \"scatter\", \"data\": [0.8923947259136213, 0.8923947259136213, 0.8923947259136213, 0.9045800110741972, 0.9045800110741972, 0.9045800110741972, 0.9045800110741972, 0.9045800110741972, 0.9045800110741972, 0.9045800110741972, 0.9045800110741972, 0.9045800110741972, 0.9045800110741972, 0.9045800110741972, 0.9045800110741972, 0.9045800110741972, 0.9045800110741972, 0.9045800110741972, 0.9045800110741972, 0.9045800110741972, 0.9045800110741972, 0.9045800110741972, 0.9095243170911775]}], \"average_precision_score_weighted\": [{\"categories\": [\"0\", \"2\", \"3\", \"7\", \"10\", \"12\", \"15\", \"17\", \"20\", \"24\", \"25\", \"26\", \"28\", \"29\", \"30\", \"31\", \"32\", \"33\", \"34\", \"35\", \"37\", \"38\", \"41\"], \"mode\": \"markers\", \"name\": \"average_precision_score_weighted\", \"stepped\": false, \"type\": \"scatter\", \"data\": [0.9092107718745325, 0.8938489321459094, 0.8634878560595809, 0.9159772124532335, 0.8848989790310146, 0.8777976553681348, 0.7247910606651575, 0.8909926242029712, 0.8869727690851625, 0.9139469925901326, 0.9093424935288485, 0.9011465852279688, 0.8966571375808906, 0.9088052146172385, 0.5796089246385138, 0.9099628137012928, 0.909817673961612, 0.9096691998395968, 0.8976237852554245, 0.5883162352826059, 0.8892748966703449, 0.9068732379708603, 0.9198124963698822]}, {\"categories\": [\"0\", \"2\", \"3\", \"7\", \"10\", \"12\", \"15\", \"17\", \"20\", \"24\", \"25\", \"26\", \"28\", \"29\", \"30\", \"31\", \"32\", \"33\", \"34\", \"35\", \"37\", \"38\", \"41\"], \"mode\": \"lines\", \"name\": \"average_precision_score_weighted_max\", \"stepped\": true, \"type\": \"scatter\", \"data\": [0.9092107718745325, 0.9092107718745325, 0.9092107718745325, 0.9159772124532335, 0.9159772124532335, 0.9159772124532335, 0.9159772124532335, 0.9159772124532335, 0.9159772124532335, 0.9159772124532335, 0.9159772124532335, 0.9159772124532335, 0.9159772124532335, 0.9159772124532335, 0.9159772124532335, 0.9159772124532335, 0.9159772124532335, 0.9159772124532335, 0.9159772124532335, 0.9159772124532335, 0.9159772124532335, 0.9159772124532335, 0.9198124963698822]}], \"matthews_correlation\": [{\"categories\": [\"0\", \"2\", \"3\", \"7\", \"10\", \"12\", \"15\", \"17\", \"20\", \"24\", \"25\", \"26\", \"28\", \"29\", \"30\", \"31\", \"32\", \"33\", \"34\", \"35\", \"37\", \"38\", \"41\"], \"mode\": \"markers\", \"name\": \"matthews_correlation\", \"stepped\": false, \"type\": \"scatter\", \"data\": [0.6403744433261381, 0.6361971587735533, 0.5395476181842347, 0.565194289954521, 0.5562547050286835, 0.47140876129758924, 0.29705877685340754, 0.5697781722393639, 0.5903431657959342, 0.610700389814898, 0.6164800905265753, 0.6074186669182265, 0.655553802377392, 0.6127825814055414, 0.0, 0.6225092059168277, 0.541905202510899, 0.6471060251005029, 0.5309885847991865, 0.0029650145024862433, 0.5237081756152893, 0.636799857943273, 0.6943352894682849]}, {\"categories\": [\"0\", \"2\", \"3\", \"7\", \"10\", \"12\", \"15\", \"17\", \"20\", \"24\", \"25\", \"26\", \"28\", \"29\", \"30\", \"31\", \"32\", \"33\", \"34\", \"35\", \"37\", \"38\", \"41\"], \"mode\": \"lines\", \"name\": \"matthews_correlation_max\", \"stepped\": true, \"type\": \"scatter\", \"data\": [0.6403744433261381, 0.6403744433261381, 0.6403744433261381, 0.6403744433261381, 0.6403744433261381, 0.6403744433261381, 0.6403744433261381, 0.6403744433261381, 0.6403744433261381, 0.6403744433261381, 0.6403744433261381, 0.6403744433261381, 0.655553802377392, 0.655553802377392, 0.655553802377392, 0.655553802377392, 0.655553802377392, 0.655553802377392, 0.655553802377392, 0.655553802377392, 0.655553802377392, 0.655553802377392, 0.6943352894682849]}], \"AUC_micro\": [{\"categories\": [\"0\", \"2\", \"3\", \"7\", \"10\", \"12\", \"15\", \"17\", \"20\", \"24\", \"25\", \"26\", \"28\", \"29\", \"30\", \"31\", \"32\", \"33\", \"34\", \"35\", \"37\", \"38\", \"41\"], \"mode\": \"markers\", \"name\": \"AUC_micro\", \"stepped\": false, \"type\": \"scatter\", \"data\": [0.897662453318012, 0.8832868747805549, 0.8717818714290274, 0.8833386159788056, 0.8804269526636663, 0.8258633534424973, 0.7554288837817997, 0.8829535254875674, 0.8783376743592198, 0.9064312138912829, 0.8954079447157586, 0.8948125059848703, 0.8976420249608988, 0.8949373902773787, 0.6790960451977401, 0.8996914200900126, 0.8933780363241723, 0.9054549299371188, 0.8808234223882027, 0.6701041207826613, 0.8810921829614735, 0.8979131635226147, 0.9011125793992786]}, {\"categories\": [\"0\", \"2\", \"3\", \"7\", \"10\", \"12\", \"15\", \"17\", \"20\", \"24\", \"25\", \"26\", \"28\", \"29\", \"30\", \"31\", \"32\", \"33\", \"34\", \"35\", \"37\", \"38\", \"41\"], \"mode\": \"lines\", \"name\": \"AUC_micro_max\", \"stepped\": true, \"type\": \"scatter\", \"data\": [0.897662453318012, 0.897662453318012, 0.897662453318012, 0.897662453318012, 0.897662453318012, 0.897662453318012, 0.897662453318012, 0.897662453318012, 0.897662453318012, 0.9064312138912829, 0.9064312138912829, 0.9064312138912829, 0.9064312138912829, 0.9064312138912829, 0.9064312138912829, 0.9064312138912829, 0.9064312138912829, 0.9064312138912829, 0.9064312138912829, 0.9064312138912829, 0.9064312138912829, 0.9064312138912829, 0.9064312138912829]}], \"precision_score_micro\": [{\"categories\": [\"0\", \"2\", \"3\", \"7\", \"10\", \"12\", \"15\", \"17\", \"20\", \"24\", \"25\", \"26\", \"28\", \"29\", \"30\", \"31\", \"32\", \"33\", \"34\", \"35\", \"37\", \"38\", \"41\"], \"mode\": \"markers\", \"name\": \"precision_score_micro\", \"stepped\": false, \"type\": \"scatter\", \"data\": [0.8428248587570621, 0.8393785310734465, 0.8094350282485877, 0.8127118644067796, 0.8091525423728815, 0.7323163841807909, 0.7224858757062147, 0.8061016949152542, 0.8160451977401131, 0.8293785310734464, 0.8327683615819209, 0.8259322033898304, 0.8494915254237287, 0.8293220338983052, 0.67909604519774, 0.8327118644067797, 0.8059322033898304, 0.846271186440678, 0.7993785310734464, 0.6623728813559322, 0.7925423728813559, 0.8361016949152542, 0.8629378531073446]}, {\"categories\": [\"0\", \"2\", \"3\", \"7\", \"10\", \"12\", \"15\", \"17\", \"20\", \"24\", \"25\", \"26\", \"28\", \"29\", \"30\", \"31\", \"32\", \"33\", \"34\", \"35\", \"37\", \"38\", \"41\"], \"mode\": \"lines\", \"name\": \"precision_score_micro_max\", \"stepped\": true, \"type\": \"scatter\", \"data\": [0.8428248587570621, 0.8428248587570621, 0.8428248587570621, 0.8428248587570621, 0.8428248587570621, 0.8428248587570621, 0.8428248587570621, 0.8428248587570621, 0.8428248587570621, 0.8428248587570621, 0.8428248587570621, 0.8428248587570621, 0.8494915254237287, 0.8494915254237287, 0.8494915254237287, 0.8494915254237287, 0.8494915254237287, 0.8494915254237287, 0.8494915254237287, 0.8494915254237287, 0.8494915254237287, 0.8494915254237287, 0.8629378531073446]}], \"f1_score_micro\": [{\"categories\": [\"0\", \"2\", \"3\", \"7\", \"10\", \"12\", \"15\", \"17\", \"20\", \"24\", \"25\", \"26\", \"28\", \"29\", \"30\", \"31\", \"32\", \"33\", \"34\", \"35\", \"37\", \"38\", \"41\"], \"mode\": \"markers\", \"name\": \"f1_score_micro\", \"stepped\": false, \"type\": \"scatter\", \"data\": [0.8428248587570621, 0.8393785310734465, 0.8094350282485877, 0.8127118644067798, 0.8091525423728815, 0.7323163841807909, 0.7224858757062147, 0.8061016949152542, 0.8160451977401131, 0.8293785310734464, 0.8327683615819209, 0.8259322033898304, 0.8494915254237287, 0.8293220338983052, 0.67909604519774, 0.8327118644067797, 0.8059322033898304, 0.846271186440678, 0.7993785310734464, 0.6623728813559322, 0.7925423728813559, 0.8361016949152542, 0.8629378531073446]}, {\"categories\": [\"0\", \"2\", \"3\", \"7\", \"10\", \"12\", \"15\", \"17\", \"20\", \"24\", \"25\", \"26\", \"28\", \"29\", \"30\", \"31\", \"32\", \"33\", \"34\", \"35\", \"37\", \"38\", \"41\"], \"mode\": \"lines\", \"name\": \"f1_score_micro_max\", \"stepped\": true, \"type\": \"scatter\", \"data\": [0.8428248587570621, 0.8428248587570621, 0.8428248587570621, 0.8428248587570621, 0.8428248587570621, 0.8428248587570621, 0.8428248587570621, 0.8428248587570621, 0.8428248587570621, 0.8428248587570621, 0.8428248587570621, 0.8428248587570621, 0.8494915254237287, 0.8494915254237287, 0.8494915254237287, 0.8494915254237287, 0.8494915254237287, 0.8494915254237287, 0.8494915254237287, 0.8494915254237287, 0.8494915254237287, 0.8494915254237287, 0.8629378531073446]}], \"accuracy\": [{\"categories\": [\"0\", \"2\", \"3\", \"7\", \"10\", \"12\", \"15\", \"17\", \"20\", \"24\", \"25\", \"26\", \"28\", \"29\", \"30\", \"31\", \"32\", \"33\", \"34\", \"35\", \"37\", \"38\", \"41\"], \"mode\": \"markers\", \"name\": \"accuracy\", \"stepped\": false, \"type\": \"scatter\", \"data\": [0.8428248587570621, 0.8393785310734465, 0.8094350282485877, 0.8127118644067796, 0.8091525423728815, 0.7323163841807909, 0.7224858757062147, 0.8061016949152542, 0.8160451977401131, 0.8293785310734464, 0.8327683615819209, 0.8259322033898304, 0.8494915254237287, 0.8293220338983052, 0.67909604519774, 0.8327118644067797, 0.8059322033898304, 0.846271186440678, 0.7993785310734464, 0.6623728813559322, 0.7925423728813559, 0.8361016949152542, 0.8629378531073446]}, {\"categories\": [\"0\", \"2\", \"3\", \"7\", \"10\", \"12\", \"15\", \"17\", \"20\", \"24\", \"25\", \"26\", \"28\", \"29\", \"30\", \"31\", \"32\", \"33\", \"34\", \"35\", \"37\", \"38\", \"41\"], \"mode\": \"lines\", \"name\": \"accuracy_max\", \"stepped\": true, \"type\": \"scatter\", \"data\": [0.8428248587570621, 0.8428248587570621, 0.8428248587570621, 0.8428248587570621, 0.8428248587570621, 0.8428248587570621, 0.8428248587570621, 0.8428248587570621, 0.8428248587570621, 0.8428248587570621, 0.8428248587570621, 0.8428248587570621, 0.8494915254237287, 0.8494915254237287, 0.8494915254237287, 0.8494915254237287, 0.8494915254237287, 0.8494915254237287, 0.8494915254237287, 0.8494915254237287, 0.8494915254237287, 0.8494915254237287, 0.8629378531073446]}], \"recall_score_weighted\": [{\"categories\": [\"0\", \"2\", \"3\", \"7\", \"10\", \"12\", \"15\", \"17\", \"20\", \"24\", \"25\", \"26\", \"28\", \"29\", \"30\", \"31\", \"32\", \"33\", \"34\", \"35\", \"37\", \"38\", \"41\"], \"mode\": \"markers\", \"name\": \"recall_score_weighted\", \"stepped\": false, \"type\": \"scatter\", \"data\": [0.8428248587570621, 0.8393785310734465, 0.8094350282485877, 0.8127118644067796, 0.8091525423728815, 0.7323163841807909, 0.7224858757062147, 0.8061016949152542, 0.8160451977401131, 0.8293785310734464, 0.8327683615819209, 0.8259322033898304, 0.8494915254237287, 0.8293220338983052, 0.67909604519774, 0.8327118644067797, 0.8059322033898304, 0.846271186440678, 0.7993785310734464, 0.6623728813559322, 0.7925423728813559, 0.8361016949152542, 0.8629378531073446]}, {\"categories\": [\"0\", \"2\", \"3\", \"7\", \"10\", \"12\", \"15\", \"17\", \"20\", \"24\", \"25\", \"26\", \"28\", \"29\", \"30\", \"31\", \"32\", \"33\", \"34\", \"35\", \"37\", \"38\", \"41\"], \"mode\": \"lines\", \"name\": \"recall_score_weighted_max\", \"stepped\": true, \"type\": \"scatter\", \"data\": [0.8428248587570621, 0.8428248587570621, 0.8428248587570621, 0.8428248587570621, 0.8428248587570621, 0.8428248587570621, 0.8428248587570621, 0.8428248587570621, 0.8428248587570621, 0.8428248587570621, 0.8428248587570621, 0.8428248587570621, 0.8494915254237287, 0.8494915254237287, 0.8494915254237287, 0.8494915254237287, 0.8494915254237287, 0.8494915254237287, 0.8494915254237287, 0.8494915254237287, 0.8494915254237287, 0.8494915254237287, 0.8629378531073446]}], \"norm_macro_recall\": [{\"categories\": [\"0\", \"2\", \"3\", \"7\", \"10\", \"12\", \"15\", \"17\", \"20\", \"24\", \"25\", \"26\", \"28\", \"29\", \"30\", \"31\", \"32\", \"33\", \"34\", \"35\", \"37\", \"38\", \"41\"], \"mode\": \"markers\", \"name\": \"norm_macro_recall\", \"stepped\": false, \"type\": \"scatter\", \"data\": [0.6299833887043189, 0.6478751384274639, 0.498546511627907, 0.5000263012181617, 0.5445930232558138, 0.5084039313399777, 0.20891196013289037, 0.5474750830564783, 0.577109634551495, 0.6106132336655593, 0.5830024916943521, 0.6091680509413068, 0.6161226467331119, 0.6059108527131783, 0.0, 0.6133513289036545, 0.49133582502768547, 0.6086821705426356, 0.4825263012181617, 0.020272702104097463, 0.5335049833887043, 0.6252131782945736, 0.6569642857142857]}, {\"categories\": [\"0\", \"2\", \"3\", \"7\", \"10\", \"12\", \"15\", \"17\", \"20\", \"24\", \"25\", \"26\", \"28\", \"29\", \"30\", \"31\", \"32\", \"33\", \"34\", \"35\", \"37\", \"38\", \"41\"], \"mode\": \"lines\", \"name\": \"norm_macro_recall_max\", \"stepped\": true, \"type\": \"scatter\", \"data\": [0.6299833887043189, 0.6478751384274639, 0.6478751384274639, 0.6478751384274639, 0.6478751384274639, 0.6478751384274639, 0.6478751384274639, 0.6478751384274639, 0.6478751384274639, 0.6478751384274639, 0.6478751384274639, 0.6478751384274639, 0.6478751384274639, 0.6478751384274639, 0.6478751384274639, 0.6478751384274639, 0.6478751384274639, 0.6478751384274639, 0.6478751384274639, 0.6478751384274639, 0.6478751384274639, 0.6478751384274639, 0.6569642857142857]}], \"log_loss\": [{\"categories\": [\"0\", \"2\", \"3\", \"7\", \"10\", \"12\", \"15\", \"17\", \"20\", \"24\", \"25\", \"26\", \"28\", \"29\", \"30\", \"31\", \"32\", \"33\", \"34\", \"35\", \"37\", \"38\", \"41\"], \"mode\": \"markers\", \"name\": \"log_loss\", \"stepped\": false, \"type\": \"scatter\", \"data\": [0.5079173229698006, 0.5418929992129583, 0.6619298164184365, 0.47862204612035314, 0.4332134764676658, 0.51620102300419, 1.6718718969314204, 0.4344362459504339, 0.4477755828633193, 0.39728796348498807, 0.4325288091042495, 0.5116725331697112, 0.4154402409188279, 0.56899206476599, 0.637478776471145, 0.3973100194118676, 0.5689704466801093, 0.43596697546095253, 0.47977525471710897, 0.6661464370126543, 0.5347803000761836, 0.4663950018096264, 0.3911794483263288]}, {\"categories\": [\"0\", \"2\", \"3\", \"7\", \"10\", \"12\", \"15\", \"17\", \"20\", \"24\", \"25\", \"26\", \"28\", \"29\", \"30\", \"31\", \"32\", \"33\", \"34\", \"35\", \"37\", \"38\", \"41\"], \"mode\": \"lines\", \"name\": \"log_loss_min\", \"stepped\": true, \"type\": \"scatter\", \"data\": [0.5079173229698006, 0.5079173229698006, 0.5079173229698006, 0.47862204612035314, 0.4332134764676658, 0.4332134764676658, 0.4332134764676658, 0.4332134764676658, 0.4332134764676658, 0.39728796348498807, 0.39728796348498807, 0.39728796348498807, 0.39728796348498807, 0.39728796348498807, 0.39728796348498807, 0.39728796348498807, 0.39728796348498807, 0.39728796348498807, 0.39728796348498807, 0.39728796348498807, 0.39728796348498807, 0.39728796348498807, 0.3911794483263288]}], \"average_precision_score_macro\": [{\"categories\": [\"0\", \"2\", \"3\", \"7\", \"10\", \"12\", \"15\", \"17\", \"20\", \"24\", \"25\", \"26\", \"28\", \"29\", \"30\", \"31\", \"32\", \"33\", \"34\", \"35\", \"37\", \"38\", \"41\"], \"mode\": \"markers\", \"name\": \"average_precision_score_macro\", \"stepped\": false, \"type\": \"scatter\", \"data\": [0.8827295343890258, 0.8635302165340064, 0.8297094646572383, 0.8903744577798994, 0.8498657091916589, 0.8469593539071493, 0.6622626675995853, 0.8603704728294751, 0.8517807213547188, 0.889423593470639, 0.8867953095789922, 0.8780554670716944, 0.874147665091184, 0.8788170752598766, 0.5, 0.8853766290769629, 0.8798976256640858, 0.8816255700752726, 0.8711968682516333, 0.5080815306793062, 0.854354827865133, 0.8799596214560154, 0.8954002303186938]}, {\"categories\": [\"0\", \"2\", \"3\", \"7\", \"10\", \"12\", \"15\", \"17\", \"20\", \"24\", \"25\", \"26\", \"28\", \"29\", \"30\", \"31\", \"32\", \"33\", \"34\", \"35\", \"37\", \"38\", \"41\"], \"mode\": \"lines\", \"name\": \"average_precision_score_macro_max\", \"stepped\": true, \"type\": \"scatter\", \"data\": [0.8827295343890258, 0.8827295343890258, 0.8827295343890258, 0.8903744577798994, 0.8903744577798994, 0.8903744577798994, 0.8903744577798994, 0.8903744577798994, 0.8903744577798994, 0.8903744577798994, 0.8903744577798994, 0.8903744577798994, 0.8903744577798994, 0.8903744577798994, 0.8903744577798994, 0.8903744577798994, 0.8903744577798994, 0.8903744577798994, 0.8903744577798994, 0.8903744577798994, 0.8903744577798994, 0.8903744577798994, 0.8954002303186938]}], \"weighted_accuracy\": [{\"categories\": [\"0\", \"2\", \"3\", \"7\", \"10\", \"12\", \"15\", \"17\", \"20\", \"24\", \"25\", \"26\", \"28\", \"29\", \"30\", \"31\", \"32\", \"33\", \"34\", \"35\", \"37\", \"38\", \"41\"], \"mode\": \"markers\", \"name\": \"weighted_accuracy\", \"stepped\": false, \"type\": \"scatter\", \"data\": [0.8612928020219082, 0.8495451811313306, 0.8483275412029316, 0.8571349682201514, 0.8339718055595053, 0.7157645929496177, 0.801298158495736, 0.829938160671958, 0.8360473402486086, 0.8461747143605514, 0.8628897582786085, 0.8409063478501357, 0.8780274789250617, 0.8480780884527104, 0.7971865900207855, 0.8508042475897722, 0.8471135019328397, 0.8748030663298468, 0.8413702623377983, 0.7686652150276377, 0.8118272574285216, 0.8530726392421473, 0.8866142658774564]}, {\"categories\": [\"0\", \"2\", \"3\", \"7\", \"10\", \"12\", \"15\", \"17\", \"20\", \"24\", \"25\", \"26\", \"28\", \"29\", \"30\", \"31\", \"32\", \"33\", \"34\", \"35\", \"37\", \"38\", \"41\"], \"mode\": \"lines\", \"name\": \"weighted_accuracy_max\", \"stepped\": true, \"type\": \"scatter\", \"data\": [0.8612928020219082, 0.8612928020219082, 0.8612928020219082, 0.8612928020219082, 0.8612928020219082, 0.8612928020219082, 0.8612928020219082, 0.8612928020219082, 0.8612928020219082, 0.8612928020219082, 0.8628897582786085, 0.8628897582786085, 0.8780274789250617, 0.8780274789250617, 0.8780274789250617, 0.8780274789250617, 0.8780274789250617, 0.8780274789250617, 0.8780274789250617, 0.8780274789250617, 0.8780274789250617, 0.8780274789250617, 0.8866142658774564]}]}, \"metricName\": null, \"primaryMetricName\": \"accuracy\", \"showLegend\": false}, \"run_metrics\": [{\"name\": \"experiment_status\", \"run_id\": \"AutoML_f28929f9-9212-4c32-92bb-f5d5255b7b4f\", \"categories\": [0, 1, 2, 3, 4, 5, 6, 7, 8, 9, 10, 11, 12, 13], \"series\": [{\"data\": [\"DatasetEvaluation\", \"FeaturesGeneration\", \"DatasetFeaturization\", \"DatasetFeaturizationCompleted\", \"DatasetCrossValidationSplit\", \"ModelSelection\", \"BestRunExplainModel\", \"ModelExplanationDataSetSetup\", \"PickSurrogateModel\", \"EngineeredFeatureExplanations\", \"EngineeredFeatureExplanations\", \"RawFeaturesExplanations\", \"RawFeaturesExplanations\", \"BestRunExplainModel\"]}]}, {\"name\": \"experiment_status_description\", \"run_id\": \"AutoML_f28929f9-9212-4c32-92bb-f5d5255b7b4f\", \"categories\": [0, 1, 2, 3, 4, 5, 6, 7, 8, 9, 10, 11, 12, 13], \"series\": [{\"data\": [\"Gathering dataset statistics.\", \"Generating features for the dataset.\", \"Beginning to fit featurizers and featurize the dataset.\", \"Completed fit featurizers and featurizing the dataset.\", \"Generating individually featurized CV splits.\", \"Beginning model selection.\", \"Best run model explanations started\", \"Model explanations data setup completed\", \"Choosing LightGBM as the surrogate model for explanations\", \"Computation of engineered features started\", \"Computation of engineered features completed\", \"Computation of raw features started\", \"Computation of raw features completed\", \"Best run model explanations completed\"]}]}, {\"name\": \"recall_score_weighted\", \"run_id\": \"AutoML_f28929f9-9212-4c32-92bb-f5d5255b7b4f\", \"categories\": [0], \"series\": [{\"data\": [0.882994350282486]}]}, {\"name\": \"AUC_weighted\", \"run_id\": \"AutoML_f28929f9-9212-4c32-92bb-f5d5255b7b4f\", \"categories\": [0], \"series\": [{\"data\": [0.9069003552971576]}]}, {\"name\": \"f1_score_macro\", \"run_id\": \"AutoML_f28929f9-9212-4c32-92bb-f5d5255b7b4f\", \"categories\": [0], \"series\": [{\"data\": [0.8578354176828625]}]}, {\"name\": \"precision_score_weighted\", \"run_id\": \"AutoML_f28929f9-9212-4c32-92bb-f5d5255b7b4f\", \"categories\": [0], \"series\": [{\"data\": [0.8946960450672214]}]}, {\"name\": \"norm_macro_recall\", \"run_id\": \"AutoML_f28929f9-9212-4c32-92bb-f5d5255b7b4f\", \"categories\": [0], \"series\": [{\"data\": [0.6992261904761905]}]}, {\"name\": \"f1_score_weighted\", \"run_id\": \"AutoML_f28929f9-9212-4c32-92bb-f5d5255b7b4f\", \"categories\": [0], \"series\": [{\"data\": [0.8785205518614699]}]}, {\"name\": \"average_precision_score_weighted\", \"run_id\": \"AutoML_f28929f9-9212-4c32-92bb-f5d5255b7b4f\", \"categories\": [0], \"series\": [{\"data\": [0.9177225884366529]}]}, {\"name\": \"precision_score_macro\", \"run_id\": \"AutoML_f28929f9-9212-4c32-92bb-f5d5255b7b4f\", \"categories\": [0], \"series\": [{\"data\": [0.890782925201823]}]}, {\"name\": \"matthews_correlation\", \"run_id\": \"AutoML_f28929f9-9212-4c32-92bb-f5d5255b7b4f\", \"categories\": [0], \"series\": [{\"data\": [0.7374155346601782]}]}, {\"name\": \"weighted_accuracy\", \"run_id\": \"AutoML_f28929f9-9212-4c32-92bb-f5d5255b7b4f\", \"categories\": [0], \"series\": [{\"data\": [0.9052696285543416]}]}, {\"name\": \"f1_score_micro\", \"run_id\": \"AutoML_f28929f9-9212-4c32-92bb-f5d5255b7b4f\", \"categories\": [0], \"series\": [{\"data\": [0.882994350282486]}]}, {\"name\": \"average_precision_score_micro\", \"run_id\": \"AutoML_f28929f9-9212-4c32-92bb-f5d5255b7b4f\", \"categories\": [0], \"series\": [{\"data\": [0.9134732011234743]}]}, {\"name\": \"average_precision_score_macro\", \"run_id\": \"AutoML_f28929f9-9212-4c32-92bb-f5d5255b7b4f\", \"categories\": [0], \"series\": [{\"data\": [0.8931823655735709]}]}, {\"name\": \"AUC_micro\", \"run_id\": \"AutoML_f28929f9-9212-4c32-92bb-f5d5255b7b4f\", \"categories\": [0], \"series\": [{\"data\": [0.9116662357560088]}]}, {\"name\": \"log_loss\", \"run_id\": \"AutoML_f28929f9-9212-4c32-92bb-f5d5255b7b4f\", \"categories\": [0], \"series\": [{\"data\": [0.46509202947114286]}]}, {\"name\": \"AUC_macro\", \"run_id\": \"AutoML_f28929f9-9212-4c32-92bb-f5d5255b7b4f\", \"categories\": [0], \"series\": [{\"data\": [0.9069003552971576]}]}, {\"name\": \"recall_score_macro\", \"run_id\": \"AutoML_f28929f9-9212-4c32-92bb-f5d5255b7b4f\", \"categories\": [0], \"series\": [{\"data\": [0.8496130952380951]}]}, {\"name\": \"precision_score_micro\", \"run_id\": \"AutoML_f28929f9-9212-4c32-92bb-f5d5255b7b4f\", \"categories\": [0], \"series\": [{\"data\": [0.882994350282486]}]}, {\"name\": \"recall_score_micro\", \"run_id\": \"AutoML_f28929f9-9212-4c32-92bb-f5d5255b7b4f\", \"categories\": [0], \"series\": [{\"data\": [0.882994350282486]}]}, {\"name\": \"balanced_accuracy\", \"run_id\": \"AutoML_f28929f9-9212-4c32-92bb-f5d5255b7b4f\", \"categories\": [0], \"series\": [{\"data\": [0.8496130952380951]}]}, {\"name\": \"accuracy\", \"run_id\": \"AutoML_f28929f9-9212-4c32-92bb-f5d5255b7b4f\", \"categories\": [0], \"series\": [{\"data\": [0.882994350282486]}]}], \"run_logs\": \"\\nRun is completed.\", \"graph\": {}, \"widget_settings\": {\"childWidgetDisplay\": \"popup\", \"send_telemetry\": false, \"log_level\": \"INFO\", \"sdk_version\": \"1.48.0\"}, \"loading\": false}"
          },
          "metadata": {}
        }
      ],
      "execution_count": 8,
      "metadata": {
        "gather": {
          "logged": 1684239856557
        },
        "jupyter": {
          "outputs_hidden": false,
          "source_hidden": false
        },
        "nteract": {
          "transient": {
            "deleting": false
          }
        }
      }
    },
    {
      "cell_type": "code",
      "source": [
        "remote_run.wait_for_completion()"
      ],
      "outputs": [
        {
          "output_type": "execute_result",
          "execution_count": 9,
          "data": {
            "text/plain": "{'runId': 'AutoML_f28929f9-9212-4c32-92bb-f5d5255b7b4f',\n 'target': 'compute-cluster',\n 'status': 'Completed',\n 'startTimeUtc': '2023-05-16T12:24:28.397989Z',\n 'endTimeUtc': '2023-05-16T12:47:04.415365Z',\n 'services': {},\n 'warnings': [{'source': 'JasmineService',\n   'message': 'No scores improved over last 10 iterations, so experiment stopped early. This early stopping behavior can be disabled by setting enable_early_stopping = False in AutoMLConfig for notebook/python SDK runs.'}],\n 'properties': {'num_iterations': '1000',\n  'training_type': 'TrainFull',\n  'acquisition_function': 'EI',\n  'primary_metric': 'accuracy',\n  'train_split': '0',\n  'acquisition_parameter': '0',\n  'num_cross_validation': '5',\n  'target': 'compute-cluster',\n  'AMLSettingsJsonString': '{\"path\":null,\"name\":\"CapstoneProjectExperiment\",\"subscription_id\":\"eb2fe91a-2797-4c53-bd12-b644f041e7ef\",\"resource_group\":\"rg-art-ta-cfp-docker\",\"workspace_name\":\"ml_playground\",\"region\":\"westeurope\",\"compute_target\":\"compute-cluster\",\"spark_service\":null,\"azure_service\":\"remote\",\"many_models\":false,\"pipeline_fetch_max_batch_size\":1,\"enable_batch_run\":true,\"enable_parallel_run\":false,\"num_procs\":null,\"enable_run_restructure\":false,\"start_auxiliary_runs_before_parent_complete\":false,\"enable_code_generation\":true,\"iterations\":1000,\"primary_metric\":\"accuracy\",\"task_type\":\"classification\",\"positive_label\":null,\"data_script\":null,\"test_size\":0.0,\"test_include_predictions_only\":false,\"validation_size\":0.0,\"n_cross_validations\":5,\"y_min\":null,\"y_max\":null,\"num_classes\":null,\"featurization\":\"auto\",\"_ignore_package_version_incompatibilities\":false,\"is_timeseries\":false,\"max_cores_per_iteration\":1,\"max_concurrent_iterations\":4,\"iteration_timeout_minutes\":null,\"mem_in_mb\":null,\"enforce_time_on_windows\":false,\"experiment_timeout_minutes\":15,\"experiment_exit_score\":null,\"partition_column_names\":null,\"whitelist_models\":null,\"blacklist_algos\":[\"TensorFlowLinearClassifier\",\"TensorFlowDNN\"],\"supported_models\":[\"TensorFlowDNN\",\"AveragedPerceptronClassifier\",\"BernoulliNaiveBayes\",\"DecisionTree\",\"LogisticRegression\",\"ExtremeRandomTrees\",\"SGD\",\"MultinomialNaiveBayes\",\"LinearSVM\",\"SVM\",\"TensorFlowLinearClassifier\",\"RandomForest\",\"XGBoostClassifier\",\"GradientBoosting\",\"TabnetClassifier\",\"LightGBM\",\"KNN\"],\"private_models\":[],\"auto_blacklist\":true,\"blacklist_samples_reached\":false,\"exclude_nan_labels\":true,\"verbosity\":20,\"_debug_log\":\"azureml_automl.log\",\"show_warnings\":false,\"model_explainability\":true,\"service_url\":null,\"sdk_url\":null,\"sdk_packages\":null,\"enable_onnx_compatible_models\":false,\"enable_split_onnx_featurizer_estimator_models\":false,\"vm_type\":\"STANDARD_D2_V2\",\"telemetry_verbosity\":20,\"send_telemetry\":true,\"enable_dnn\":false,\"scenario\":\"AutoML\",\"environment_label\":null,\"save_mlflow\":false,\"enable_categorical_indicators\":false,\"force_text_dnn\":false,\"enable_feature_sweeping\":true,\"enable_early_stopping\":true,\"early_stopping_n_iters\":10,\"arguments\":null,\"dataset_id\":\"b9c641eb-1f6a-415f-82cf-2f441cc7a697\",\"hyperdrive_config\":null,\"validation_dataset_id\":null,\"run_source\":null,\"metrics\":null,\"enable_metric_confidence\":false,\"enable_ensembling\":true,\"enable_stack_ensembling\":true,\"ensemble_iterations\":15,\"enable_tf\":false,\"enable_subsampling\":null,\"subsample_seed\":null,\"enable_nimbusml\":false,\"enable_streaming\":false,\"force_streaming\":false,\"track_child_runs\":true,\"n_best_runs\":1,\"allowed_private_models\":[],\"label_column_name\":\"DEATH_EVENT\",\"weight_column_name\":null,\"cv_split_column_names\":null,\"enable_local_managed\":false,\"_local_managed_run_id\":null,\"cost_mode\":1,\"lag_length\":0,\"metric_operation\":\"maximize\",\"preprocess\":true}',\n  'DataPrepJsonString': '{\\\\\"training_data\\\\\": {\\\\\"datasetId\\\\\": \\\\\"b9c641eb-1f6a-415f-82cf-2f441cc7a697\\\\\"}, \\\\\"datasets\\\\\": 0}',\n  'EnableSubsampling': None,\n  'runTemplate': 'AutoML',\n  'azureml.runsource': 'automl',\n  'display_task_type': 'classification',\n  'dependencies_versions': '{\"azureml-widgets\": \"1.48.0\", \"azureml-training-tabular\": \"1.48.0\", \"azureml-train\": \"1.48.0\", \"azureml-train-restclients-hyperdrive\": \"1.48.0\", \"azureml-train-core\": \"1.48.0\", \"azureml-train-automl\": \"1.48.0\", \"azureml-train-automl-runtime\": \"1.48.0\", \"azureml-train-automl-client\": \"1.48.0\", \"azureml-tensorboard\": \"1.48.0\", \"azureml-telemetry\": \"1.48.0\", \"azureml-sdk\": \"1.48.0\", \"azureml-samples\": \"0+unknown\", \"azureml-responsibleai\": \"1.48.0\", \"azureml-pipeline\": \"1.48.0\", \"azureml-pipeline-steps\": \"1.48.0\", \"azureml-pipeline-core\": \"1.48.0\", \"azureml-opendatasets\": \"1.48.0\", \"azureml-mlflow\": \"1.48.0\", \"azureml-interpret\": \"1.48.0\", \"azureml-inference-server-http\": \"0.7.7\", \"azureml-explain-model\": \"1.48.0\", \"azureml-defaults\": \"1.48.0\", \"azureml-dataset-runtime\": \"1.48.0\", \"azureml-dataprep\": \"4.8.3\", \"azureml-dataprep-rslex\": \"2.15.1\", \"azureml-dataprep-native\": \"38.0.0\", \"azureml-datadrift\": \"1.48.0\", \"azureml-core\": \"1.48.0\", \"azureml-contrib-services\": \"1.48.0\", \"azureml-contrib-server\": \"1.48.0\", \"azureml-contrib-reinforcementlearning\": \"1.48.0\", \"azureml-contrib-pipeline-steps\": \"1.48.0\", \"azureml-contrib-notebook\": \"1.48.0\", \"azureml-contrib-fairness\": \"1.48.0\", \"azureml-contrib-dataset\": \"1.48.0\", \"azureml-contrib-automl-pipeline-steps\": \"1.48.0\", \"azureml-cli-common\": \"1.48.0\", \"azureml-automl-runtime\": \"1.48.0.post1\", \"azureml-automl-dnn-nlp\": \"1.48.0\", \"azureml-automl-core\": \"1.48.0\", \"azureml-accel-models\": \"1.48.0\"}',\n  '_aml_system_scenario_identification': 'Remote.Parent',\n  'ClientType': 'SDK',\n  'PlatformVersion': 'DPV1',\n  'environment_cpu_name': 'AzureML-AutoML',\n  'environment_cpu_label': 'nimbus-deprecation',\n  'environment_gpu_name': 'AzureML-AutoML-GPU',\n  'environment_gpu_label': 'prod',\n  'root_attribution': 'automl',\n  'attribution': 'AutoML',\n  'Orchestrator': 'AutoML',\n  'CancelUri': 'https://westeurope.api.azureml.ms/jasmine/v1.0/subscriptions/eb2fe91a-2797-4c53-bd12-b644f041e7ef/resourceGroups/rg-art-ta-cfp-docker/providers/Microsoft.MachineLearningServices/workspaces/ml_playground/experimentids/500ac389-8131-4090-9b7d-e0a0b4ca7fb9/cancel/AutoML_f28929f9-9212-4c32-92bb-f5d5255b7b4f',\n  'ClientSdkVersion': '1.48.0.post2',\n  'snapshotId': '00000000-0000-0000-0000-000000000000',\n  'SetupRunId': 'AutoML_f28929f9-9212-4c32-92bb-f5d5255b7b4f_setup',\n  'SetupRunContainerId': 'dcid.AutoML_f28929f9-9212-4c32-92bb-f5d5255b7b4f_setup',\n  'FeaturizationRunJsonPath': 'featurizer_container.json',\n  'FeaturizationRunId': 'AutoML_f28929f9-9212-4c32-92bb-f5d5255b7b4f_featurize',\n  'ProblemInfoJsonString': '{\"dataset_num_categorical\": 0, \"is_sparse\": false, \"subsampling\": false, \"has_extra_col\": true, \"dataset_classes\": 2, \"dataset_features\": 12, \"dataset_samples\": 299, \"single_frequency_class_detected\": false}',\n  'ModelExplainRunId': 'AutoML_f28929f9-9212-4c32-92bb-f5d5255b7b4f_ModelExplain'},\n 'inputDatasets': [{'dataset': {'id': 'b9c641eb-1f6a-415f-82cf-2f441cc7a697'}, 'consumptionDetails': {'type': 'RunInput', 'inputName': 'training_data', 'mechanism': 'Direct'}}],\n 'outputDatasets': [{'identifier': {'savedId': '8055fa1d-f19a-4592-9991-3bb49fe9c15a'},\n   'outputType': 'RunOutput',\n   'outputDetails': {'outputName': 'full_training_dataset'},\n   'dataset': {\n     \"source\": [\n       \"('workspaceartifactstore', 'ExperimentRun/dcid.AutoML_f28929f9-9212-4c32-92bb-f5d5255b7b4f/outputs/featurization/data/full_training_dataset.df.parquet')\"\n     ],\n     \"definition\": [\n       \"GetDatastoreFiles\",\n       \"ReadParquetFile\",\n       \"DropColumns\"\n     ],\n     \"registration\": {\n       \"id\": \"8055fa1d-f19a-4592-9991-3bb49fe9c15a\",\n       \"name\": null,\n       \"version\": null,\n       \"workspace\": \"Workspace.create(name='ml_playground', subscription_id='eb2fe91a-2797-4c53-bd12-b644f041e7ef', resource_group='rg-art-ta-cfp-docker')\"\n     }\n   }}],\n 'logFiles': {},\n 'submittedBy': 'Ernst, Sebastian (T4-25)'}"
          },
          "metadata": {}
        }
      ],
      "execution_count": 9,
      "metadata": {
        "jupyter": {
          "outputs_hidden": false,
          "source_hidden": false
        },
        "nteract": {
          "transient": {
            "deleting": false
          }
        },
        "gather": {
          "logged": 1684242599789
        }
      }
    },
    {
      "cell_type": "markdown",
      "source": [
        "## Best Model\n",
        "\n",
        "TODO: In the cell below, get the best model from the automl experiments and display all the properties of the model.\n",
        "\n"
      ],
      "metadata": {}
    },
    {
      "cell_type": "code",
      "source": [
        "best_run, fitted_model = remote_run.get_output()\n",
        "best_run_metrics = best_run.get_metrics()\n",
        "\n",
        "for metrics in best_run_metrics:\n",
        "    print(metrics, best_run_metrics[metrics])\n",
        "\n",
        "print(fitted_model)"
      ],
      "outputs": [
        {
          "output_type": "stream",
          "name": "stdout",
          "text": "accuracy 0.882994350282486\nbalanced_accuracy 0.8496130952380951\nAUC_weighted 0.9069003552971576\nprecision_score_micro 0.882994350282486\nf1_score_weighted 0.8785205518614699\naverage_precision_score_macro 0.8931823655735709\nAUC_micro 0.9116662357560088\nlog_loss 0.46509202947114286\nrecall_score_micro 0.882994350282486\nAUC_macro 0.9069003552971576\nrecall_score_macro 0.8496130952380951\naverage_precision_score_weighted 0.9177225884366529\naverage_precision_score_micro 0.9134732011234743\nprecision_score_weighted 0.8946960450672214\nprecision_score_macro 0.890782925201823\nf1_score_macro 0.8578354176828625\nmatthews_correlation 0.7374155346601782\nrecall_score_weighted 0.882994350282486\nnorm_macro_recall 0.6992261904761905\nf1_score_micro 0.882994350282486\nweighted_accuracy 0.9052696285543416\nconfusion_matrix aml://artifactId/ExperimentRun/dcid.AutoML_f28929f9-9212-4c32-92bb-f5d5255b7b4f_40/confusion_matrix\naccuracy_table aml://artifactId/ExperimentRun/dcid.AutoML_f28929f9-9212-4c32-92bb-f5d5255b7b4f_40/accuracy_table\nPipeline(memory=None,\n         steps=[('datatransformer',\n                 DataTransformer(enable_dnn=False, enable_feature_sweeping=True, feature_sweeping_config={}, feature_sweeping_timeout=86400, featurization_config=None, force_text_dnn=False, is_cross_validation=True, is_onnx_compatible=False, observer=None, task='classification', working_dir='/mnt/batch/tasks/shared/LS_root/mount...\n                 PreFittedSoftVotingClassifier(classification_labels=array([0, 1]), estimators=[('28', Pipeline(memory=None, steps=[('standardscalerwrapper', StandardScalerWrapper(copy=True, with_mean=False, with_std=False)), ('xgboostclassifier', XGBoostClassifier(booster='gbtree', colsample_bytree=0.9, eta=0.3, gamma=10, max_depth=8, max_leaves=127, n_estimators=100, n_jobs=1, objective='reg:logistic', problem_info=ProblemInfo(gpu_training_param_dict={'processing_unit_type': 'cpu'}), random_state=0, reg_alpha=0, reg_lambda=2.3958333333333335, subsample=0.5, tree_method='auto'))], verbose=False)), ('33', Pipeline(memory=None, steps=[('sparsenormalizer', Normalizer(copy=True, norm='l1')), ('xgboostclassifier', XGBoostClassifier(booster='gbtree', colsample_bylevel=1, colsample_bytree=1, eta=0.5, gamma=0.01, max_depth=7, max_leaves=15, n_estimators=100, n_jobs=1, objective='reg:logistic', problem_info=ProblemInfo(gpu_training_param_dict={'processing_unit_type': 'cpu'}), random_state=0, reg_alpha=0.5208333333333334, reg_lambda=2.291666666666667, subsample=1, tree_method='auto'))], verbose=False)), ('22', Pipeline(memory=None, steps=[('sparsenormalizer', Normalizer(copy=True, norm='l2')), ('randomforestclassifier', RandomForestClassifier(bootstrap=True, ccp_alpha=0.0, class_weight='balanced', criterion='gini', max_depth=None, max_features='sqrt', max_leaf_nodes=None, max_samples=None, min_impurity_decrease=0.0, min_impurity_split=None, min_samples_leaf=0.01, min_samples_split=0.01, min_weight_fraction_leaf=0.0, n_estimators=100, n_jobs=1, oob_score=True, random_state=None, verbose=0, warm_start=False))], verbose=False)), ('0', Pipeline(memory=None, steps=[('maxabsscaler', MaxAbsScaler(copy=True)), ('lightgbmclassifier', LightGBMClassifier(min_data_in_leaf=20, n_jobs=1, problem_info=ProblemInfo(gpu_training_param_dict={'processing_unit_type': 'cpu'}), random_state=None))], verbose=False)), ('2', Pipeline(memory=None, steps=[('maxabsscaler', MaxAbsScaler(copy=True)), ('extratreesclassifier', ExtraTreesClassifier(bootstrap=True, ccp_alpha=0.0, class_weight='balanced', criterion='gini', max_depth=None, max_features='sqrt', max_leaf_nodes=None, max_samples=None, min_impurity_decrease=0.0, min_impurity_split=None, min_samples_leaf=0.01, min_samples_split=0.15052631578947367, min_weight_fraction_leaf=0.0, n_estimators=100, n_jobs=1, oob_score=True, random_state=None, verbose=0, warm_start=False))], verbose=False)), ('3', Pipeline(memory=None, steps=[('sparsenormalizer', Normalizer(copy=True, norm='l2')), ('xgboostclassifier', XGBoostClassifier(booster='gbtree', colsample_bytree=0.7, eta=0.01, gamma=0.01, max_depth=7, max_leaves=31, n_estimators=10, n_jobs=1, objective='reg:logistic', problem_info=ProblemInfo(gpu_training_param_dict={'processing_unit_type': 'cpu'}), random_state=0, reg_alpha=2.1875, reg_lambda=1.0416666666666667, subsample=1, tree_method='auto'))], verbose=False)), ('34', Pipeline(memory=None, steps=[('standardscalerwrapper', StandardScalerWrapper(copy=True, with_mean=True, with_std=True)), ('lightgbmclassifier', LightGBMClassifier(boosting_type='goss', colsample_bytree=0.8911111111111111, learning_rate=0.06316157894736842, max_bin=50, max_depth=10, min_child_weight=2, min_data_in_leaf=0.024145517241379314, min_split_gain=0.3157894736842105, n_estimators=10, n_jobs=1, num_leaves=167, problem_info=ProblemInfo(gpu_training_param_dict={'processing_unit_type': 'cpu'}), random_state=None, reg_alpha=0.5263157894736842, reg_lambda=0.21052631578947367, subsample=1))], verbose=False))], flatten_transform=None, weights=[0.08333333333333333, 0.08333333333333333, 0.25, 0.08333333333333333, 0.08333333333333333, 0.3333333333333333, 0.08333333333333333]))],\n         verbose=False)\n"
        }
      ],
      "execution_count": 10,
      "metadata": {
        "gather": {
          "logged": 1684242650441
        },
        "jupyter": {
          "outputs_hidden": false,
          "source_hidden": false
        },
        "nteract": {
          "transient": {
            "deleting": false
          }
        }
      }
    },
    {
      "cell_type": "code",
      "source": [
        "#TODO: Save the best model\n",
        "\n",
        "best_run.register_model(model_name = 'capstone-automl', model_path='./outputs')"
      ],
      "outputs": [
        {
          "output_type": "execute_result",
          "execution_count": 22,
          "data": {
            "text/plain": "Model(workspace=Workspace.create(name='ml_playground', subscription_id='eb2fe91a-2797-4c53-bd12-b644f041e7ef', resource_group='rg-art-ta-cfp-docker'), name=test, id=test:1, version=1, tags={}, properties={})"
          },
          "metadata": {}
        }
      ],
      "execution_count": 22,
      "metadata": {
        "gather": {
          "logged": 1598431426111
        },
        "jupyter": {
          "outputs_hidden": false,
          "source_hidden": false
        },
        "nteract": {
          "transient": {
            "deleting": false
          }
        }
      }
    },
    {
      "cell_type": "markdown",
      "source": [
        "## Model Deployment\n",
        "\n",
        "Remember you have to deploy only one of the two models you trained but you still need to register both the models. Perform the steps in the rest of this notebook only if you wish to deploy this model.\n",
        "\n",
        "TODO: In the cell below, register the model, create an inference config and deploy the model as a web service."
      ],
      "metadata": {}
    },
    {
      "cell_type": "code",
      "source": [
        "# Download score.py and env file\n",
        "best_run.download_file('outputs/scoring_file_v_1_0_0.py', 'inference/score.py')\n",
        "best_run.download_file(constants.CONDA_ENV_FILE_PATH,'./automl_env.yml')"
      ],
      "outputs": [],
      "execution_count": 25,
      "metadata": {
        "gather": {
          "logged": 1684244081737
        }
      }
    },
    {
      "cell_type": "code",
      "source": [
        "#Register the model\n",
        "model_name = \"capstone_automl\"\n",
        "description = 'Best AutoML Model for the udacity ML ND capstone project'\n",
        "model = remote_run.register_model(model_name = model_name, description = description)"
      ],
      "outputs": [],
      "execution_count": 11,
      "metadata": {
        "gather": {
          "logged": 1684242661691
        },
        "jupyter": {
          "outputs_hidden": false,
          "source_hidden": false
        },
        "nteract": {
          "transient": {
            "deleting": false
          }
        }
      }
    },
    {
      "cell_type": "code",
      "source": [
        "# deploy model for inference \n",
        "script_file_name= 'inference/score.py'\n",
        "best_run.download_file('outputs/scoring_file_v_1_0_0.py', script_file_name)\n",
        "inference_config = InferenceConfig(entry_script=script_file_name)\n",
        "\n",
        "aciconfig = AciWebservice.deploy_configuration(cpu_cores = 1, memory_gb = 1)\n",
        "\n",
        "aci_service_name = 'heart-failure-inference'\n",
        "aci_service = Model.deploy(ws, aci_service_name, [model], inference_config, aciconfig)\n",
        "aci_service.wait_for_deployment(True)\n",
        "print(aci_service.state)"
      ],
      "outputs": [
        {
          "output_type": "stream",
          "name": "stdout",
          "text": "Tips: You can try get_logs(): https://aka.ms/debugimage#dockerlog or local deployment: https://aka.ms/debugimage#debug-locally to debug if deployment takes longer than 10 minutes.\nRunning\n2023-05-16 13:11:18+00:00 Creating Container Registry if not exists.\n2023-05-16 13:11:19+00:00 Use the existing image.\n2023-05-16 13:11:20+00:00 Submitting deployment to compute.\n2023-05-16 13:11:26+00:00 Checking the status of deployment heart-failure-inferene..\n2023-05-16 13:13:53+00:00 Checking the status of inference endpoint heart-failure-inferene.\nSucceeded\nACI service creation operation finished, operation \"Succeeded\"\nHealthy\n"
        }
      ],
      "execution_count": 13,
      "metadata": {
        "gather": {
          "logged": 1684242872071
        }
      }
    },
    {
      "cell_type": "code",
      "source": [
        "# Enable Application Insights\n",
        "aci_service.update(enable_app_insights=True)"
      ],
      "outputs": [],
      "execution_count": 16,
      "metadata": {
        "gather": {
          "logged": 1684243331800
        },
        "jupyter": {
          "outputs_hidden": false,
          "source_hidden": false
        },
        "nteract": {
          "transient": {
            "deleting": false
          }
        }
      }
    },
    {
      "cell_type": "markdown",
      "source": [
        "TODO: In the cell below, send a request to the web service you deployed to test it."
      ],
      "metadata": {
        "collapsed": true,
        "gather": {
          "logged": 1598431657736
        },
        "jupyter": {
          "outputs_hidden": false,
          "source_hidden": false
        },
        "nteract": {
          "transient": {
            "deleting": false
          }
        }
      }
    },
    {
      "cell_type": "code",
      "source": [
        "import requests\n",
        "import json\n",
        "\n",
        "scoring_uri = aci_service.scoring_uri\n",
        "\n",
        "data = {\"data\":\n",
        "        [\n",
        "          {\n",
        "            \"age\": 98.0,\n",
        "            \"anaemia\": 0,\n",
        "            \"creatinine_phosphokinase\": 3990,\n",
        "            \"diabetes\": 1,\n",
        "            \"ejection_fraction\": 29,\n",
        "            \"high_blood_pressure\": 1,\n",
        "            \"platelets\": 342721.29,\n",
        "            \"serum_creatinine\": 1.0,\n",
        "            \"serum_sodium\": 109,\n",
        "            \"sex\": 0,\n",
        "            \"smoking\": 1,\n",
        "            \"time\": 11\n",
        "          },\n",
        "          {\n",
        "            \"age\": 79.0,\n",
        "            \"anaemia\": 0,\n",
        "            \"creatinine_phosphokinase\": 4094,\n",
        "            \"diabetes\": 0,\n",
        "            \"ejection_fraction\": 21,\n",
        "            \"high_blood_pressure\": 0,\n",
        "            \"platelets\": 414792.12,\n",
        "            \"serum_creatinine\": 1.3,\n",
        "            \"serum_sodium\": 121,\n",
        "            \"sex\": 1,\n",
        "            \"smoking\": 0,\n",
        "            \"time\": 9\n",
        "          },\n",
        "      ]\n",
        "    }\n",
        "\n",
        "\n",
        "input_data = json.dumps(data)\n",
        "with open(\"data.json\", \"w\") as f:\n",
        "    f.write(input_data)\n",
        "\n",
        "headers = {'Content-Type': 'application/json'}\n",
        "\n",
        "resp = requests.post(scoring_uri, input_data, headers=headers)\n",
        "print(resp.json())"
      ],
      "outputs": [
        {
          "output_type": "stream",
          "name": "stdout",
          "text": "{\"result\": [1, 1]}\n"
        }
      ],
      "execution_count": 21,
      "metadata": {
        "jupyter": {
          "outputs_hidden": false,
          "source_hidden": false
        },
        "nteract": {
          "transient": {
            "deleting": false
          }
        },
        "gather": {
          "logged": 1684243407846
        }
      }
    },
    {
      "cell_type": "code",
      "source": [
        "print(f\"State {aci_service.state}\")\n",
        "print(f\"Swagger URL {aci_service.swagger_uri}\")\n",
        "print(f\"Inference URL {aci_service.scoring_uri}\")"
      ],
      "outputs": [
        {
          "output_type": "stream",
          "name": "stdout",
          "text": "State Healthy\nSwagger URL http://b2ebc8c4-abac-4d01-bb69-332337b87bac.westeurope.azurecontainer.io/swagger.json\nInference URL http://b2ebc8c4-abac-4d01-bb69-332337b87bac.westeurope.azurecontainer.io/score\n"
        }
      ],
      "execution_count": 22,
      "metadata": {
        "gather": {
          "logged": 1684243414462
        }
      }
    },
    {
      "cell_type": "markdown",
      "source": [
        "TODO: In the cell below, print the logs of the web service and delete the service"
      ],
      "metadata": {
        "collapsed": true,
        "gather": {
          "logged": 1598432765711
        },
        "jupyter": {
          "outputs_hidden": false,
          "source_hidden": false
        },
        "nteract": {
          "transient": {
            "deleting": false
          }
        }
      }
    },
    {
      "cell_type": "code",
      "source": [
        "#Print the logs of the deployed service\n",
        "aci_service.get_logs()"
      ],
      "outputs": [
        {
          "output_type": "execute_result",
          "execution_count": 23,
          "data": {
            "text/plain": "'2023-05-16T13:16:48,720046465+00:00 - rsyslog/run \\n2023-05-16T13:16:48,719679364+00:00 - iot-server/run \\n2023-05-16T13:16:48,727058076+00:00 - gunicorn/run \\n2023-05-16T13:16:48,737266793+00:00 | gunicorn/run | \\n2023-05-16T13:16:48,740942899+00:00 | gunicorn/run | ###############################################\\n2023-05-16T13:16:48,751192916+00:00 | gunicorn/run | AzureML Container Runtime Information\\n2023-05-16T13:16:48,754590021+00:00 | gunicorn/run | ###############################################\\n2023-05-16T13:16:48,760289930+00:00 | gunicorn/run | \\n2023-05-16T13:16:48,769788046+00:00 | gunicorn/run | \\n2023-05-16T13:16:48,774719754+00:00 - nginx/run \\n2023-05-16T13:16:48,791182281+00:00 | gunicorn/run | AzureML image information: openmpi4.1.0-ubuntu20.04, Materializaton Build:20230120.v2\\n2023-05-16T13:16:48,793817785+00:00 | gunicorn/run | \\n2023-05-16T13:16:48,797710992+00:00 | gunicorn/run | \\n2023-05-16T13:16:48,802692100+00:00 | gunicorn/run | PATH environment variable: /azureml-envs/azureml_339aac991804a6fc1abdc6b4bd0e857e/bin:/opt/miniconda/bin:/usr/local/sbin:/usr/local/bin:/usr/sbin:/usr/bin:/sbin:/bin\\n2023-05-16T13:16:48,804481003+00:00 | gunicorn/run | PYTHONPATH environment variable: \\n2023-05-16T13:16:48,811047813+00:00 | gunicorn/run | \\n2023-05-16T13:16:48,812964916+00:00 | gunicorn/run | Pip Dependencies (before dynamic installation)\\n\\nEdgeHubConnectionString and IOTEDGE_IOTHUBHOSTNAME are not set. Exiting...\\n2023-05-16T13:16:50,074796677+00:00 - iot-server/finish 1 0\\n2023-05-16T13:16:50,077850382+00:00 - Exit code 1 is normal. Not restarting iot-server.\\nadal==1.2.7\\nappdirs @ file:///home/conda/feedstock_root/build_artifacts/appdirs_1603108395799/work\\napplicationinsights==0.11.10\\nargcomplete==2.0.0\\narviz @ file:///home/conda/feedstock_root/build_artifacts/arviz_1666645025910/work\\nasttokens==2.2.1\\nattrs==22.2.0\\nazure-common==1.1.28\\nazure-core==1.26.2\\nazure-graphrbac==0.61.1\\nazure-identity==1.12.0\\nazure-mgmt-authorization==3.0.0\\nazure-mgmt-containerregistry==10.0.0\\nazure-mgmt-core==1.3.2\\nazure-mgmt-keyvault==10.1.0\\nazure-mgmt-resource==21.2.1\\nazure-mgmt-storage==20.1.0\\nazure-storage-blob==12.13.0\\nazure-storage-queue==12.5.0\\nazureml-automl-core==1.48.0\\nazureml-automl-runtime==1.48.0.post2\\nazureml-core==1.48.0\\nazureml-dataprep==4.8.6\\nazureml-dataprep-native==38.0.0\\nazureml-dataprep-rslex==2.15.2\\nazureml-dataset-runtime==1.48.0\\nazureml-defaults==1.48.0\\nazureml-inference-server-http==0.7.7\\nazureml-interpret==1.48.0\\nazureml-mlflow==1.48.0\\nazureml-pipeline-core==1.48.0\\nazureml-responsibleai==1.48.0\\nazureml-telemetry==1.48.0\\nazureml-train-automl-client==1.48.0\\nazureml-train-automl-runtime==1.48.0.post2\\nazureml-train-core==1.48.0\\nazureml-train-restclients-hyperdrive==1.48.0\\nazureml-training-tabular==1.48.0\\nbackcall==0.2.0\\nbackports.tempfile==1.0\\nbackports.weakref==1.0.post1\\nbcrypt==4.0.1\\nblinker @ file:///home/conda/feedstock_root/build_artifacts/blinker_1664823096650/work\\nbokeh==2.4.3\\nboto==2.49.0\\nboto3 @ file:///home/conda/feedstock_root/build_artifacts/boto3_1602889982367/work\\nbotocore @ file:///home/conda/feedstock_root/build_artifacts/botocore_1602884371056/work\\nbrotlipy @ file:///home/conda/feedstock_root/build_artifacts/brotlipy_1666764652625/work\\ncachetools==5.3.0\\ncertifi==2022.12.7\\ncffi @ file:///home/conda/feedstock_root/build_artifacts/cffi_1671179356964/work\\ncftime @ file:///home/conda/feedstock_root/build_artifacts/cftime_1666833813766/work\\ncharset-normalizer @ file:///home/conda/feedstock_root/build_artifacts/charset-normalizer_1661170624537/work\\nclick @ file:///home/conda/feedstock_root/build_artifacts/click_1645238082580/work\\ncloudpickle @ file:///home/conda/feedstock_root/build_artifacts/cloudpickle_1598400192773/work\\ncolorama @ file:///home/conda/feedstock_root/build_artifacts/colorama_1666700638685/work\\nconfigparser @ file:///home/conda/feedstock_root/build_artifacts/configparser_1660952164778/work\\ncontextlib2==21.6.0\\ncontourpy @ file:///home/conda/feedstock_root/build_artifacts/contourpy_1673633650729/work\\nconvertdate @ file:///home/conda/feedstock_root/build_artifacts/convertdate_1642883757836/work\\ncryptography @ file:///home/conda/feedstock_root/build_artifacts/cryptography-split_1672672382550/work\\ncycler @ file:///home/conda/feedstock_root/build_artifacts/cycler_1635519461629/work\\nCython==0.29.17\\ndask==2021.6.0\\ndatabricks-cli @ file:///home/conda/feedstock_root/build_artifacts/databricks-cli_1670623174375/work\\ndataclasses==0.6\\ndebugpy==1.6.6\\ndecorator==5.1.1\\ndice-ml==0.9\\ndill==0.3.6\\ndistributed==2021.6.0\\ndistro==1.8.0\\ndocker==6.0.1\\ndotnetcore2==3.1.23\\neconml==0.14.0\\nentrypoints @ file:///home/conda/feedstock_root/build_artifacts/entrypoints_1643888246732/work\\nephem @ file:///home/conda/feedstock_root/build_artifacts/ephem_1671669584328/work\\nerroranalysis==0.4.0\\nexecuting==1.2.0\\nfairlearn==0.8.0\\nfbprophet @ file:///home/conda/feedstock_root/build_artifacts/fbprophet_1599365532360/work\\nfire==0.5.0\\nFlask==2.2.2\\nFlask-Cors==3.0.10\\nflatbuffers==23.1.21\\nfonttools @ file:///home/conda/feedstock_root/build_artifacts/fonttools_1666827142353/work\\nfsspec==2023.1.0\\ngensim==3.8.3\\ngitdb @ file:///home/conda/feedstock_root/build_artifacts/gitdb_1669279893622/work\\nGitPython @ file:///home/conda/feedstock_root/build_artifacts/gitpython_1672338156505/work\\ngoogle-api-core==2.11.0\\ngoogle-auth==2.16.0\\ngoogleapis-common-protos==1.58.0\\ngunicorn==20.1.0\\nh5py==3.8.0\\nHeapDict==1.0.1\\nholidays @ file:///home/conda/feedstock_root/build_artifacts/holidays_1595448845196/work\\nhumanfriendly==10.0\\nidna @ file:///home/conda/feedstock_root/build_artifacts/idna_1663625384323/work\\nimportlib-metadata @ file:///home/conda/feedstock_root/build_artifacts/importlib-metadata_1671416996338/work\\nimportlib-resources==5.10.2\\ninference-schema==1.5.1\\ninterpret-community==0.27.0\\ninterpret-core==0.2.7\\nipykernel==6.6.0\\nipython==8.9.0\\nisodate==0.6.1\\nitsdangerous==2.1.2\\njedi==0.18.2\\njeepney==0.8.0\\nJinja2==3.1.2\\njmespath @ file:///home/conda/feedstock_root/build_artifacts/jmespath_1589369830981/work\\njoblib @ file:///home/conda/feedstock_root/build_artifacts/joblib_1589548394565/work\\njsonpickle==2.2.0\\njsonschema==4.17.3\\njupyter-client==7.4.9\\njupyter-core==5.2.0\\nkeras2onnx==1.6.0\\nkiwisolver @ file:///home/conda/feedstock_root/build_artifacts/kiwisolver_1666805766046/work\\nknack==0.10.1\\nkorean-lunar-calendar @ file:///home/conda/feedstock_root/build_artifacts/korean_lunar_calendar_1663341251025/work\\nlightgbm==3.2.1\\nllvmlite==0.38.1\\nlocket==1.0.0\\nLunarCalendar==0.0.9\\nMarkupSafe==2.0.1\\nmatplotlib @ file:///home/conda/feedstock_root/build_artifacts/matplotlib-suite_1674078821358/work\\nmatplotlib-inline==0.1.6\\nml-wrappers==0.2.2\\nmlflow-skinny @ file:///home/conda/feedstock_root/build_artifacts/mlflow-split_1666367445718/work\\nmpi4py==3.1.3\\nmsal==1.20.0\\nmsal-extensions==1.0.0\\nmsgpack==1.0.4\\nmsrest==0.7.1\\nmsrestazure==0.6.4\\nmunkres==1.1.4\\nndg-httpsclient==0.5.1\\nnest-asyncio==1.5.6\\nnetCDF4 @ file:///home/conda/feedstock_root/build_artifacts/netcdf4_1668678829651/work\\nnetworkx==2.5\\nnimbusml==1.8.0\\nnumba==0.55.2\\nnumpy @ file:///home/conda/feedstock_root/build_artifacts/numpy_1649806303867/work\\noauthlib @ file:///home/conda/feedstock_root/build_artifacts/oauthlib_1666056362788/work\\nonnx==1.12.0\\nonnxconverter-common==1.6.0\\nonnxmltools==1.4.1\\nonnxruntime==1.11.1\\nopencensus==0.11.1\\nopencensus-context==0.1.3\\nopencensus-ext-azure==1.1.8\\npackaging @ file:///home/conda/feedstock_root/build_artifacts/packaging_1637239678211/work\\npandas==1.1.5\\nparamiko==2.12.0\\nparso==0.8.3\\npartd==1.3.0\\npathspec==0.11.0\\npatsy==0.5.3\\npexpect==4.8.0\\npickleshare==0.7.5\\nPillow @ file:///home/conda/feedstock_root/build_artifacts/pillow_1672675296857/work\\npkginfo==1.9.6\\npkgutil-resolve-name==1.3.10\\nplatformdirs==2.6.2\\npmdarima==1.7.1\\npooch @ file:///home/conda/feedstock_root/build_artifacts/pooch_1643032624649/work\\nportalocker==2.7.0\\nprompt-toolkit==3.0.36\\nprotobuf==3.20.1\\npsutil @ file:///home/conda/feedstock_root/build_artifacts/psutil_1667885878918/work\\nptyprocess==0.7.0\\npure-eval==0.2.2\\npy-cpuinfo==5.0.0\\npyarrow==9.0.0\\npyasn1==0.4.8\\npyasn1-modules==0.2.8\\npycparser @ file:///home/conda/feedstock_root/build_artifacts/pycparser_1636257122734/work\\nPygments==2.14.0\\nPyJWT @ file:///home/conda/feedstock_root/build_artifacts/pyjwt_1666240235902/work\\nPyMeeus @ file:///home/conda/feedstock_root/build_artifacts/pymeeus_1670868433998/work\\nPyNaCl==1.5.0\\npyOpenSSL==22.1.0\\npyparsing @ file:///home/conda/feedstock_root/build_artifacts/pyparsing_1652235407899/work\\npyrsistent==0.19.3\\nPySocks @ file:///home/conda/feedstock_root/build_artifacts/pysocks_1661604839144/work\\npystan @ file:///home/conda/feedstock_root/build_artifacts/pystan_1598392747715/work\\npython-dateutil @ file:///home/conda/feedstock_root/build_artifacts/python-dateutil_1626286286081/work\\npytz @ file:///home/conda/feedstock_root/build_artifacts/pytz_1673864280276/work\\nPyYAML @ file:///home/conda/feedstock_root/build_artifacts/pyyaml_1666772387080/work\\npyzmq==25.0.0\\nraiutils==0.3.0\\nrequests @ file:///home/conda/feedstock_root/build_artifacts/requests_1673863902341/work\\nrequests-oauthlib==1.3.1\\nresponsibleai==0.23.0\\nrsa==4.9\\ns3transfer @ file:///home/conda/feedstock_root/build_artifacts/s3transfer_1618355402893/work\\nscikit-learn==0.22.1\\nscipy==1.5.3\\nSecretStorage==3.3.3\\nsemver==2.13.0\\nsetuptools-git==1.2\\nshap==0.39.0\\nsix @ file:///home/conda/feedstock_root/build_artifacts/six_1620240208055/work\\nskl2onnx==1.4.9\\nsklearn-pandas==1.7.0\\nslicer==0.0.7\\nsmart-open==1.9.0\\nsmmap @ file:///home/conda/feedstock_root/build_artifacts/smmap_1611376390914/work\\nsortedcontainers==2.4.0\\nsparse==0.13.0\\nsqlparse @ file:///home/conda/feedstock_root/build_artifacts/sqlparse_1663990453245/work\\nstack-data==0.6.2\\nstatsmodels==0.11.1\\ntabulate @ file:///home/conda/feedstock_root/build_artifacts/tabulate_1665138452165/work\\ntblib==1.7.0\\ntermcolor==2.2.0\\ntoolz==0.12.0\\ntornado==6.2\\ntqdm @ file:///home/conda/feedstock_root/build_artifacts/tqdm_1662214488106/work\\ntraitlets==5.9.0\\ntyping-extensions @ file:///home/conda/feedstock_root/build_artifacts/typing_extensions_1665144421445/work\\nunicodedata2 @ file:///home/conda/feedstock_root/build_artifacts/unicodedata2_1667239955025/work\\nurllib3 @ file:///home/conda/feedstock_root/build_artifacts/urllib3_1603125704209/work\\nwcwidth==0.2.6\\nwebsocket-client==1.5.0\\nWerkzeug==2.2.2\\nwrapt==1.12.1\\nxarray @ file:///home/conda/feedstock_root/build_artifacts/xarray_1658533631249/work\\nxarray-einstats @ file:///home/conda/feedstock_root/build_artifacts/xarray-einstats_1673917909214/work\\nxgboost==1.3.3\\nzict==2.2.0\\nzipp @ file:///home/conda/feedstock_root/build_artifacts/zipp_1674910338934/work\\n\\n2023-05-16T13:16:52,920688323+00:00 | gunicorn/run | \\n2023-05-16T13:16:52,923714328+00:00 | gunicorn/run | ###############################################\\n2023-05-16T13:16:52,928783636+00:00 | gunicorn/run | AzureML Inference Server\\n2023-05-16T13:16:52,930906439+00:00 | gunicorn/run | ###############################################\\n2023-05-16T13:16:52,936738349+00:00 | gunicorn/run | \\n2023-05-16T13:16:56,776762265+00:00 | gunicorn/run | Starting AzureML Inference Server HTTP.\\nValid Application Insights instrumentation key provided.\\n\\nAzure ML Inferencing HTTP server v0.7.7\\n\\n\\nServer Settings\\n---------------\\nEntry Script Name: /var/azureml-app/main.py\\nModel Directory: /var/azureml-app/azureml-models/capstone_automl/1\\nWorker Count: 1\\nWorker Timeout (seconds): 300\\nServer Port: 31311\\nApplication Insights Enabled: true\\nApplication Insights Key: AppInsights key provided\\nInferencing HTTP server version: azmlinfsrv/0.7.7\\nCORS for the specified origins: None\\n\\n\\nServer Routes\\n---------------\\nLiveness Probe: GET   127.0.0.1:31311/\\nScore:          POST  127.0.0.1:31311/score\\n\\nStarting gunicorn 20.1.0\\nListening at: http://0.0.0.0:31311 (78)\\nUsing worker: sync\\nBooting worker with pid: 131\\nInitializing logger\\n2023-05-16 13:16:59,904 | root | INFO | Starting up app insights client\\nDeprecationWarning: Explicitly using instrumentation key isdeprecated. Please use a connection string instead.\\nDeprecationWarning: Explicitly using instrumentation key isdeprecated. Please use a connection string instead.\\nDeprecationWarning: Explicitly using instrumentation key isdeprecated. Please use a connection string instead.\\nlogging socket was found. logging is available.\\nlogging socket was found. logging is available.\\n2023-05-16 13:17:05,633 | root | INFO | Starting up app insight hooks\\n2023-05-16 13:17:08,739 | root | INFO | Found driver script at /var/azureml-app/main.py and the score script at /var/azureml-app/score.py\\n2023-05-16 13:17:08,740 | root | INFO | run() is decorated with @input_schema. Server will invoke it with the following arguments: data, method.\\n2023-05-16 13:17:08,741 | root | INFO | Invoking user\\'s init function\\ngenerated new fontManager\\nImporting plotly failed. Interactive plots will not work.\\n2023-05-16 13:17:35,943 | azureml.core | WARNING | Failure while loading azureml_run_type_providers. Failed to load entrypoint azureml.scriptrun = azureml.core.script_run:ScriptRun._from_run_dto with exception (urllib3 1.25.11 (/azureml-envs/azureml_339aac991804a6fc1abdc6b4bd0e857e/lib/python3.8/site-packages), Requirement.parse(\\'urllib3>=1.26.0\\'), {\\'docker\\'}).\\nFailure while loading azureml_run_type_providers. Failed to load entrypoint azureml.scriptrun = azureml.core.script_run:ScriptRun._from_run_dto with exception (urllib3 1.25.11 (/azureml-envs/azureml_339aac991804a6fc1abdc6b4bd0e857e/lib/python3.8/site-packages), Requirement.parse(\\'urllib3>=1.26.0\\'), {\\'docker\\'}).\\n2023-05-16 13:17:35,956 | azureml.core | WARNING | Failure while loading azureml_run_type_providers. Failed to load entrypoint azureml.PipelineRun = azureml.pipeline.core.run:PipelineRun._from_dto with exception (urllib3 1.25.11 (/azureml-envs/azureml_339aac991804a6fc1abdc6b4bd0e857e/lib/python3.8/site-packages), Requirement.parse(\\'urllib3>=1.26.0\\'), {\\'docker\\'}).\\nFailure while loading azureml_run_type_providers. Failed to load entrypoint azureml.PipelineRun = azureml.pipeline.core.run:PipelineRun._from_dto with exception (urllib3 1.25.11 (/azureml-envs/azureml_339aac991804a6fc1abdc6b4bd0e857e/lib/python3.8/site-packages), Requirement.parse(\\'urllib3>=1.26.0\\'), {\\'docker\\'}).\\n2023-05-16 13:17:35,971 | azureml.core | WARNING | Failure while loading azureml_run_type_providers. Failed to load entrypoint azureml.ReusedStepRun = azureml.pipeline.core.run:StepRun._from_reused_dto with exception (urllib3 1.25.11 (/azureml-envs/azureml_339aac991804a6fc1abdc6b4bd0e857e/lib/python3.8/site-packages), Requirement.parse(\\'urllib3>=1.26.0\\'), {\\'docker\\'}).\\nFailure while loading azureml_run_type_providers. Failed to load entrypoint azureml.ReusedStepRun = azureml.pipeline.core.run:StepRun._from_reused_dto with exception (urllib3 1.25.11 (/azureml-envs/azureml_339aac991804a6fc1abdc6b4bd0e857e/lib/python3.8/site-packages), Requirement.parse(\\'urllib3>=1.26.0\\'), {\\'docker\\'}).\\n2023-05-16 13:17:35,982 | azureml.core | WARNING | Failure while loading azureml_run_type_providers. Failed to load entrypoint azureml.StepRun = azureml.pipeline.core.run:StepRun._from_dto with exception (urllib3 1.25.11 (/azureml-envs/azureml_339aac991804a6fc1abdc6b4bd0e857e/lib/python3.8/site-packages), Requirement.parse(\\'urllib3>=1.26.0\\'), {\\'docker\\'}).\\nFailure while loading azureml_run_type_providers. Failed to load entrypoint azureml.StepRun = azureml.pipeline.core.run:StepRun._from_dto with exception (urllib3 1.25.11 (/azureml-envs/azureml_339aac991804a6fc1abdc6b4bd0e857e/lib/python3.8/site-packages), Requirement.parse(\\'urllib3>=1.26.0\\'), {\\'docker\\'}).\\n2023-05-16 13:17:36,076 | azureml.core | WARNING | Failure while loading azureml_run_type_providers. Failed to load entrypoint automl = azureml.train.automl.run:AutoMLRun._from_run_dto with exception (urllib3 1.25.11 (/azureml-envs/azureml_339aac991804a6fc1abdc6b4bd0e857e/lib/python3.8/site-packages), Requirement.parse(\\'urllib3>=1.26.0\\'), {\\'docker\\'}).\\nFailure while loading azureml_run_type_providers. Failed to load entrypoint automl = azureml.train.automl.run:AutoMLRun._from_run_dto with exception (urllib3 1.25.11 (/azureml-envs/azureml_339aac991804a6fc1abdc6b4bd0e857e/lib/python3.8/site-packages), Requirement.parse(\\'urllib3>=1.26.0\\'), {\\'docker\\'}).\\n2023-05-16 13:17:36,107 | azureml.core | WARNING | Failure while loading azureml_run_type_providers. Failed to load entrypoint hyperdrive = azureml.train.hyperdrive:HyperDriveRun._from_run_dto with exception (urllib3 1.25.11 (/azureml-envs/azureml_339aac991804a6fc1abdc6b4bd0e857e/lib/python3.8/site-packages), Requirement.parse(\\'urllib3>=1.26.0\\'), {\\'docker\\'}).\\nFailure while loading azureml_run_type_providers. Failed to load entrypoint hyperdrive = azureml.train.hyperdrive:HyperDriveRun._from_run_dto with exception (urllib3 1.25.11 (/azureml-envs/azureml_339aac991804a6fc1abdc6b4bd0e857e/lib/python3.8/site-packages), Requirement.parse(\\'urllib3>=1.26.0\\'), {\\'docker\\'}).\\n2023-05-16 13:17:40,502 | root | INFO | Users\\'s init has completed successfully\\n2023-05-16 13:17:40,510 | root | INFO | Swaggers are prepared for the following versions: [2, 3].\\n2023-05-16 13:17:40,511 | root | INFO | Scoring timeout is found from os.environ: 60000 ms\\n2023-05-16 13:17:40,515 | root | INFO | AML_FLASK_ONE_COMPATIBILITY is set. Patched Flask to ensure compatibility with Flask 1.\\n2023-05-16 13:17:54,237 | root | INFO | 200\\n127.0.0.1 - - [16/May/2023:13:17:54 +0000] \"GET /swagger.json HTTP/1.0\" 200 3607 \"-\" \"Go-http-client/1.1\"\\n2023-05-16 13:22:11,327 | root | INFO | 200\\n127.0.0.1 - - [16/May/2023:13:22:11 +0000] \"GET /swagger.json HTTP/1.0\" 200 3607 \"-\" \"Go-http-client/1.1\"\\n2023-05-16 13:22:15,896 | root | INFO | 200\\n127.0.0.1 - - [16/May/2023:13:22:15 +0000] \"POST /score HTTP/1.0\" 200 22 \"-\" \"python-requests/2.28.1\"\\n2023-05-16 13:22:25,846 | root | INFO | 200\\n127.0.0.1 - - [16/May/2023:13:22:25 +0000] \"POST /score HTTP/1.0\" 200 22 \"-\" \"python-requests/2.28.1\"\\n2023-05-16 13:22:45,574 | root | INFO | 200\\n127.0.0.1 - - [16/May/2023:13:22:45 +0000] \"POST /score HTTP/1.0\" 200 22 \"-\" \"python-requests/2.28.1\"\\n2023-05-16 13:22:57,332 | root | INFO | 200\\n127.0.0.1 - - [16/May/2023:13:22:57 +0000] \"POST /score HTTP/1.0\" 200 22 \"-\" \"python-requests/2.28.1\"\\n2023-05-16 13:23:27,870 | root | INFO | 200\\n127.0.0.1 - - [16/May/2023:13:23:27 +0000] \"POST /score HTTP/1.0\" 200 22 \"-\" \"python-requests/2.28.1\"\\n'"
          },
          "metadata": {}
        }
      ],
      "execution_count": 23,
      "metadata": {
        "gather": {
          "logged": 1684243421486
        }
      }
    },
    {
      "cell_type": "markdown",
      "source": [
        "**Submission Checklist**\n",
        "- I have registered the model.\n",
        "- I have deployed the model with the best accuracy as a webservice.\n",
        "- I have tested the webservice by sending a request to the model endpoint.\n",
        "- I have deleted the webservice and shutdown all the computes that I have used.\n",
        "- I have taken a screenshot showing the model endpoint as active.\n",
        "- The project includes a file containing the environment details.\n"
      ],
      "metadata": {}
    }
  ],
  "metadata": {
    "kernel_info": {
      "name": "python38-azureml"
    },
    "kernelspec": {
      "name": "python38-azureml",
      "language": "python",
      "display_name": "Python 3.8 - AzureML"
    },
    "language_info": {
      "name": "python",
      "version": "3.8.10",
      "mimetype": "text/x-python",
      "codemirror_mode": {
        "name": "ipython",
        "version": 3
      },
      "pygments_lexer": "ipython3",
      "nbconvert_exporter": "python",
      "file_extension": ".py"
    },
    "microsoft": {
      "host": {
        "AzureML": {
          "notebookHasBeenCompleted": true
        }
      },
      "ms_spell_check": {
        "ms_spell_check_language": "en"
      }
    },
    "nteract": {
      "version": "nteract-front-end@1.0.0"
    }
  },
  "nbformat": 4,
  "nbformat_minor": 2
}